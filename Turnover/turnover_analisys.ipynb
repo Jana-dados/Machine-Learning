{
 "cells": [
  {
   "cell_type": "markdown",
   "id": "3f8b7f4a",
   "metadata": {},
   "source": [
    "# Turnover"
   ]
  },
  {
   "cell_type": "markdown",
   "id": "305afeda",
   "metadata": {},
   "source": [
    "## Employee Turnover"
   ]
  },
  {
   "cell_type": "markdown",
   "id": "e44bd6d5",
   "metadata": {},
   "source": [
    "1. analisar dados\n",
    "2. plotar alguns graficos **estudar mais\n",
    "3. separar dados treino e teste\n",
    "    escolhar alguns modelos de algoritmo\n",
    "4. treinar o modelo\n",
    "5. analisar os resultados\n",
    "6. coclusao\n",
    "\n",
    "fonte: https://www.kaggle.com/davinwijaya/employee-turnover"
   ]
  },
  {
   "cell_type": "markdown",
   "id": "a89fa120",
   "metadata": {},
   "source": [
    "### Data Analisys"
   ]
  },
  {
   "cell_type": "code",
   "execution_count": 2,
   "id": "3e7640a9",
   "metadata": {},
   "outputs": [],
   "source": [
    "import pandas as pd\n",
    "import numpy as np\n",
    "import matplotlib.pyplot as plt\n",
    "from sklearn.model_selection import train_test_split\n",
    "from sklearn.ensemble import RandomForestClassifier\n",
    "\n",
    "from sklearn.model_selection import cross_val_score #Utilizada para o processo de validação cruzada\n",
    "from sklearn.metrics import classification_report #Apresenta as métricas alcanças pelo nosso modelo de predição\n",
    "from sklearn.preprocessing import LabelEncoder\n",
    "import seaborn as sns"
   ]
  },
  {
   "cell_type": "code",
   "execution_count": 3,
   "id": "b147f1ec",
   "metadata": {},
   "outputs": [],
   "source": [
    "data = pd.read_csv('turnover.csv')"
   ]
  },
  {
   "cell_type": "code",
   "execution_count": 4,
   "id": "e6021324",
   "metadata": {},
   "outputs": [
    {
     "data": {
      "text/html": [
       "<div>\n",
       "<style scoped>\n",
       "    .dataframe tbody tr th:only-of-type {\n",
       "        vertical-align: middle;\n",
       "    }\n",
       "\n",
       "    .dataframe tbody tr th {\n",
       "        vertical-align: top;\n",
       "    }\n",
       "\n",
       "    .dataframe thead th {\n",
       "        text-align: right;\n",
       "    }\n",
       "</style>\n",
       "<table border=\"1\" class=\"dataframe\">\n",
       "  <thead>\n",
       "    <tr style=\"text-align: right;\">\n",
       "      <th></th>\n",
       "      <th>stag</th>\n",
       "      <th>event</th>\n",
       "      <th>gender</th>\n",
       "      <th>age</th>\n",
       "      <th>industry</th>\n",
       "      <th>profession</th>\n",
       "      <th>traffic</th>\n",
       "      <th>coach</th>\n",
       "      <th>head_gender</th>\n",
       "      <th>greywage</th>\n",
       "      <th>way</th>\n",
       "      <th>extraversion</th>\n",
       "      <th>independ</th>\n",
       "      <th>selfcontrol</th>\n",
       "      <th>anxiety</th>\n",
       "      <th>novator</th>\n",
       "    </tr>\n",
       "  </thead>\n",
       "  <tbody>\n",
       "    <tr>\n",
       "      <th>0</th>\n",
       "      <td>7.030801</td>\n",
       "      <td>1</td>\n",
       "      <td>m</td>\n",
       "      <td>35.0</td>\n",
       "      <td>Banks</td>\n",
       "      <td>HR</td>\n",
       "      <td>rabrecNErab</td>\n",
       "      <td>no</td>\n",
       "      <td>f</td>\n",
       "      <td>white</td>\n",
       "      <td>bus</td>\n",
       "      <td>6.2</td>\n",
       "      <td>4.1</td>\n",
       "      <td>5.7</td>\n",
       "      <td>7.1</td>\n",
       "      <td>8.3</td>\n",
       "    </tr>\n",
       "    <tr>\n",
       "      <th>1</th>\n",
       "      <td>22.965092</td>\n",
       "      <td>1</td>\n",
       "      <td>m</td>\n",
       "      <td>33.0</td>\n",
       "      <td>Banks</td>\n",
       "      <td>HR</td>\n",
       "      <td>empjs</td>\n",
       "      <td>no</td>\n",
       "      <td>m</td>\n",
       "      <td>white</td>\n",
       "      <td>bus</td>\n",
       "      <td>6.2</td>\n",
       "      <td>4.1</td>\n",
       "      <td>5.7</td>\n",
       "      <td>7.1</td>\n",
       "      <td>8.3</td>\n",
       "    </tr>\n",
       "    <tr>\n",
       "      <th>2</th>\n",
       "      <td>15.934292</td>\n",
       "      <td>1</td>\n",
       "      <td>f</td>\n",
       "      <td>35.0</td>\n",
       "      <td>PowerGeneration</td>\n",
       "      <td>HR</td>\n",
       "      <td>rabrecNErab</td>\n",
       "      <td>no</td>\n",
       "      <td>m</td>\n",
       "      <td>white</td>\n",
       "      <td>bus</td>\n",
       "      <td>6.2</td>\n",
       "      <td>6.2</td>\n",
       "      <td>2.6</td>\n",
       "      <td>4.8</td>\n",
       "      <td>8.3</td>\n",
       "    </tr>\n",
       "    <tr>\n",
       "      <th>3</th>\n",
       "      <td>15.934292</td>\n",
       "      <td>1</td>\n",
       "      <td>f</td>\n",
       "      <td>35.0</td>\n",
       "      <td>PowerGeneration</td>\n",
       "      <td>HR</td>\n",
       "      <td>rabrecNErab</td>\n",
       "      <td>no</td>\n",
       "      <td>m</td>\n",
       "      <td>white</td>\n",
       "      <td>bus</td>\n",
       "      <td>5.4</td>\n",
       "      <td>7.6</td>\n",
       "      <td>4.9</td>\n",
       "      <td>2.5</td>\n",
       "      <td>6.7</td>\n",
       "    </tr>\n",
       "    <tr>\n",
       "      <th>4</th>\n",
       "      <td>8.410678</td>\n",
       "      <td>1</td>\n",
       "      <td>m</td>\n",
       "      <td>32.0</td>\n",
       "      <td>Retail</td>\n",
       "      <td>Commercial</td>\n",
       "      <td>youjs</td>\n",
       "      <td>yes</td>\n",
       "      <td>f</td>\n",
       "      <td>white</td>\n",
       "      <td>bus</td>\n",
       "      <td>3.0</td>\n",
       "      <td>4.1</td>\n",
       "      <td>8.0</td>\n",
       "      <td>7.1</td>\n",
       "      <td>3.7</td>\n",
       "    </tr>\n",
       "    <tr>\n",
       "      <th>...</th>\n",
       "      <td>...</td>\n",
       "      <td>...</td>\n",
       "      <td>...</td>\n",
       "      <td>...</td>\n",
       "      <td>...</td>\n",
       "      <td>...</td>\n",
       "      <td>...</td>\n",
       "      <td>...</td>\n",
       "      <td>...</td>\n",
       "      <td>...</td>\n",
       "      <td>...</td>\n",
       "      <td>...</td>\n",
       "      <td>...</td>\n",
       "      <td>...</td>\n",
       "      <td>...</td>\n",
       "      <td>...</td>\n",
       "    </tr>\n",
       "    <tr>\n",
       "      <th>1124</th>\n",
       "      <td>10.611910</td>\n",
       "      <td>0</td>\n",
       "      <td>f</td>\n",
       "      <td>41.0</td>\n",
       "      <td>Banks</td>\n",
       "      <td>HR</td>\n",
       "      <td>rabrecNErab</td>\n",
       "      <td>my head</td>\n",
       "      <td>m</td>\n",
       "      <td>white</td>\n",
       "      <td>bus</td>\n",
       "      <td>8.6</td>\n",
       "      <td>3.4</td>\n",
       "      <td>2.6</td>\n",
       "      <td>4.8</td>\n",
       "      <td>8.3</td>\n",
       "    </tr>\n",
       "    <tr>\n",
       "      <th>1125</th>\n",
       "      <td>10.611910</td>\n",
       "      <td>0</td>\n",
       "      <td>f</td>\n",
       "      <td>41.0</td>\n",
       "      <td>Banks</td>\n",
       "      <td>HR</td>\n",
       "      <td>rabrecNErab</td>\n",
       "      <td>my head</td>\n",
       "      <td>m</td>\n",
       "      <td>white</td>\n",
       "      <td>bus</td>\n",
       "      <td>8.6</td>\n",
       "      <td>3.4</td>\n",
       "      <td>2.6</td>\n",
       "      <td>4.8</td>\n",
       "      <td>8.3</td>\n",
       "    </tr>\n",
       "    <tr>\n",
       "      <th>1126</th>\n",
       "      <td>118.800821</td>\n",
       "      <td>0</td>\n",
       "      <td>f</td>\n",
       "      <td>34.0</td>\n",
       "      <td>Telecom</td>\n",
       "      <td>Accounting</td>\n",
       "      <td>KA</td>\n",
       "      <td>no</td>\n",
       "      <td>f</td>\n",
       "      <td>white</td>\n",
       "      <td>bus</td>\n",
       "      <td>4.6</td>\n",
       "      <td>5.5</td>\n",
       "      <td>7.2</td>\n",
       "      <td>6.3</td>\n",
       "      <td>3.7</td>\n",
       "    </tr>\n",
       "    <tr>\n",
       "      <th>1127</th>\n",
       "      <td>49.412731</td>\n",
       "      <td>0</td>\n",
       "      <td>f</td>\n",
       "      <td>51.0</td>\n",
       "      <td>Consult</td>\n",
       "      <td>HR</td>\n",
       "      <td>empjs</td>\n",
       "      <td>no</td>\n",
       "      <td>m</td>\n",
       "      <td>grey</td>\n",
       "      <td>bus</td>\n",
       "      <td>3.8</td>\n",
       "      <td>7.6</td>\n",
       "      <td>5.7</td>\n",
       "      <td>6.3</td>\n",
       "      <td>5.2</td>\n",
       "    </tr>\n",
       "    <tr>\n",
       "      <th>1128</th>\n",
       "      <td>24.837782</td>\n",
       "      <td>0</td>\n",
       "      <td>f</td>\n",
       "      <td>29.0</td>\n",
       "      <td>Retail</td>\n",
       "      <td>HR</td>\n",
       "      <td>youjs</td>\n",
       "      <td>no</td>\n",
       "      <td>f</td>\n",
       "      <td>white</td>\n",
       "      <td>car</td>\n",
       "      <td>9.4</td>\n",
       "      <td>1.2</td>\n",
       "      <td>4.1</td>\n",
       "      <td>5.6</td>\n",
       "      <td>6.7</td>\n",
       "    </tr>\n",
       "  </tbody>\n",
       "</table>\n",
       "<p>1129 rows × 16 columns</p>\n",
       "</div>"
      ],
      "text/plain": [
       "            stag  event gender   age         industry  profession  \\\n",
       "0       7.030801      1      m  35.0            Banks          HR   \n",
       "1      22.965092      1      m  33.0            Banks          HR   \n",
       "2      15.934292      1      f  35.0  PowerGeneration          HR   \n",
       "3      15.934292      1      f  35.0  PowerGeneration          HR   \n",
       "4       8.410678      1      m  32.0           Retail  Commercial   \n",
       "...          ...    ...    ...   ...              ...         ...   \n",
       "1124   10.611910      0      f  41.0            Banks          HR   \n",
       "1125   10.611910      0      f  41.0            Banks          HR   \n",
       "1126  118.800821      0      f  34.0          Telecom  Accounting   \n",
       "1127   49.412731      0      f  51.0          Consult          HR   \n",
       "1128   24.837782      0      f  29.0           Retail          HR   \n",
       "\n",
       "          traffic    coach head_gender greywage  way  extraversion  independ  \\\n",
       "0     rabrecNErab       no           f    white  bus           6.2       4.1   \n",
       "1           empjs       no           m    white  bus           6.2       4.1   \n",
       "2     rabrecNErab       no           m    white  bus           6.2       6.2   \n",
       "3     rabrecNErab       no           m    white  bus           5.4       7.6   \n",
       "4           youjs      yes           f    white  bus           3.0       4.1   \n",
       "...           ...      ...         ...      ...  ...           ...       ...   \n",
       "1124  rabrecNErab  my head           m    white  bus           8.6       3.4   \n",
       "1125  rabrecNErab  my head           m    white  bus           8.6       3.4   \n",
       "1126           KA       no           f    white  bus           4.6       5.5   \n",
       "1127        empjs       no           m     grey  bus           3.8       7.6   \n",
       "1128        youjs       no           f    white  car           9.4       1.2   \n",
       "\n",
       "      selfcontrol  anxiety  novator  \n",
       "0             5.7      7.1      8.3  \n",
       "1             5.7      7.1      8.3  \n",
       "2             2.6      4.8      8.3  \n",
       "3             4.9      2.5      6.7  \n",
       "4             8.0      7.1      3.7  \n",
       "...           ...      ...      ...  \n",
       "1124          2.6      4.8      8.3  \n",
       "1125          2.6      4.8      8.3  \n",
       "1126          7.2      6.3      3.7  \n",
       "1127          5.7      6.3      5.2  \n",
       "1128          4.1      5.6      6.7  \n",
       "\n",
       "[1129 rows x 16 columns]"
      ]
     },
     "execution_count": 4,
     "metadata": {},
     "output_type": "execute_result"
    }
   ],
   "source": [
    "data"
   ]
  },
  {
   "cell_type": "code",
   "execution_count": 19,
   "id": "263f3caf",
   "metadata": {},
   "outputs": [
    {
     "data": {
      "image/png": "[encoded data removed]",
      "text/plain": [
       "<Figure size 432x288 with 1 Axes>"
      ]
     },
     "metadata": {
      "needs_background": "light"
     },
     "output_type": "display_data"
    }
   ],
   "source": [
    "import matplotlib.pyplot as plt\n",
    " \n",
    "x = data['extraversion']\n",
    "\n",
    "plt.hist(x, bins=10)\n",
    "plt.show()"
   ]
  },
  {
   "cell_type": "code",
   "execution_count": 4,
   "id": "85b6579c",
   "metadata": {},
   "outputs": [
    {
     "data": {
      "text/html": [
       "<div>\n",
       "<style scoped>\n",
       "    .dataframe tbody tr th:only-of-type {\n",
       "        vertical-align: middle;\n",
       "    }\n",
       "\n",
       "    .dataframe tbody tr th {\n",
       "        vertical-align: top;\n",
       "    }\n",
       "\n",
       "    .dataframe thead th {\n",
       "        text-align: right;\n",
       "    }\n",
       "</style>\n",
       "<table border=\"1\" class=\"dataframe\">\n",
       "  <thead>\n",
       "    <tr style=\"text-align: right;\">\n",
       "      <th></th>\n",
       "      <th>stag</th>\n",
       "      <th>event</th>\n",
       "      <th>age</th>\n",
       "      <th>extraversion</th>\n",
       "      <th>independ</th>\n",
       "      <th>selfcontrol</th>\n",
       "      <th>anxiety</th>\n",
       "      <th>novator</th>\n",
       "    </tr>\n",
       "  </thead>\n",
       "  <tbody>\n",
       "    <tr>\n",
       "      <th>count</th>\n",
       "      <td>1129.000000</td>\n",
       "      <td>1129.000000</td>\n",
       "      <td>1129.000000</td>\n",
       "      <td>1129.000000</td>\n",
       "      <td>1129.000000</td>\n",
       "      <td>1129.000000</td>\n",
       "      <td>1129.000000</td>\n",
       "      <td>1129.000000</td>\n",
       "    </tr>\n",
       "    <tr>\n",
       "      <th>mean</th>\n",
       "      <td>36.627526</td>\n",
       "      <td>0.505757</td>\n",
       "      <td>31.066965</td>\n",
       "      <td>5.592383</td>\n",
       "      <td>5.478034</td>\n",
       "      <td>5.597254</td>\n",
       "      <td>5.665633</td>\n",
       "      <td>5.879628</td>\n",
       "    </tr>\n",
       "    <tr>\n",
       "      <th>std</th>\n",
       "      <td>34.096597</td>\n",
       "      <td>0.500188</td>\n",
       "      <td>6.996147</td>\n",
       "      <td>1.851637</td>\n",
       "      <td>1.703312</td>\n",
       "      <td>1.980101</td>\n",
       "      <td>1.709176</td>\n",
       "      <td>1.904016</td>\n",
       "    </tr>\n",
       "    <tr>\n",
       "      <th>min</th>\n",
       "      <td>0.394251</td>\n",
       "      <td>0.000000</td>\n",
       "      <td>18.000000</td>\n",
       "      <td>1.000000</td>\n",
       "      <td>1.000000</td>\n",
       "      <td>1.000000</td>\n",
       "      <td>1.700000</td>\n",
       "      <td>1.000000</td>\n",
       "    </tr>\n",
       "    <tr>\n",
       "      <th>25%</th>\n",
       "      <td>11.728953</td>\n",
       "      <td>0.000000</td>\n",
       "      <td>26.000000</td>\n",
       "      <td>4.600000</td>\n",
       "      <td>4.100000</td>\n",
       "      <td>4.100000</td>\n",
       "      <td>4.800000</td>\n",
       "      <td>4.400000</td>\n",
       "    </tr>\n",
       "    <tr>\n",
       "      <th>50%</th>\n",
       "      <td>24.344969</td>\n",
       "      <td>1.000000</td>\n",
       "      <td>30.000000</td>\n",
       "      <td>5.400000</td>\n",
       "      <td>5.500000</td>\n",
       "      <td>5.700000</td>\n",
       "      <td>5.600000</td>\n",
       "      <td>6.000000</td>\n",
       "    </tr>\n",
       "    <tr>\n",
       "      <th>75%</th>\n",
       "      <td>51.318275</td>\n",
       "      <td>1.000000</td>\n",
       "      <td>36.000000</td>\n",
       "      <td>7.000000</td>\n",
       "      <td>6.900000</td>\n",
       "      <td>7.200000</td>\n",
       "      <td>7.100000</td>\n",
       "      <td>7.500000</td>\n",
       "    </tr>\n",
       "    <tr>\n",
       "      <th>max</th>\n",
       "      <td>179.449692</td>\n",
       "      <td>1.000000</td>\n",
       "      <td>58.000000</td>\n",
       "      <td>10.000000</td>\n",
       "      <td>10.000000</td>\n",
       "      <td>10.000000</td>\n",
       "      <td>10.000000</td>\n",
       "      <td>10.000000</td>\n",
       "    </tr>\n",
       "  </tbody>\n",
       "</table>\n",
       "</div>"
      ],
      "text/plain": [
       "              stag        event          age  extraversion     independ  \\\n",
       "count  1129.000000  1129.000000  1129.000000   1129.000000  1129.000000   \n",
       "mean     36.627526     0.505757    31.066965      5.592383     5.478034   \n",
       "std      34.096597     0.500188     6.996147      1.851637     1.703312   \n",
       "min       0.394251     0.000000    18.000000      1.000000     1.000000   \n",
       "25%      11.728953     0.000000    26.000000      4.600000     4.100000   \n",
       "50%      24.344969     1.000000    30.000000      5.400000     5.500000   \n",
       "75%      51.318275     1.000000    36.000000      7.000000     6.900000   \n",
       "max     179.449692     1.000000    58.000000     10.000000    10.000000   \n",
       "\n",
       "       selfcontrol      anxiety      novator  \n",
       "count  1129.000000  1129.000000  1129.000000  \n",
       "mean      5.597254     5.665633     5.879628  \n",
       "std       1.980101     1.709176     1.904016  \n",
       "min       1.000000     1.700000     1.000000  \n",
       "25%       4.100000     4.800000     4.400000  \n",
       "50%       5.700000     5.600000     6.000000  \n",
       "75%       7.200000     7.100000     7.500000  \n",
       "max      10.000000    10.000000    10.000000  "
      ]
     },
     "execution_count": 4,
     "metadata": {},
     "output_type": "execute_result"
    }
   ],
   "source": [
    "data.describe()"
   ]
  },
  {
   "cell_type": "code",
   "execution_count": 5,
   "id": "e8a18c36",
   "metadata": {},
   "outputs": [
    {
     "data": {
      "text/plain": [
       "stag            0\n",
       "event           0\n",
       "gender          0\n",
       "age             0\n",
       "industry        0\n",
       "profession      0\n",
       "traffic         0\n",
       "coach           0\n",
       "head_gender     0\n",
       "greywage        0\n",
       "way             0\n",
       "extraversion    0\n",
       "independ        0\n",
       "selfcontrol     0\n",
       "anxiety         0\n",
       "novator         0\n",
       "dtype: int64"
      ]
     },
     "execution_count": 5,
     "metadata": {},
     "output_type": "execute_result"
    }
   ],
   "source": [
    "#pesquisando dados faltantes na tabela treino\n",
    "data.isnull().sum()"
   ]
  },
  {
   "cell_type": "code",
   "execution_count": 6,
   "id": "6f60c7fc",
   "metadata": {},
   "outputs": [
    {
     "name": "stdout",
     "output_type": "stream",
     "text": [
      "<class 'pandas.core.frame.DataFrame'>\n",
      "RangeIndex: 1129 entries, 0 to 1128\n",
      "Data columns (total 16 columns):\n",
      " #   Column        Non-Null Count  Dtype  \n",
      "---  ------        --------------  -----  \n",
      " 0   stag          1129 non-null   float64\n",
      " 1   event         1129 non-null   int64  \n",
      " 2   gender        1129 non-null   object \n",
      " 3   age           1129 non-null   float64\n",
      " 4   industry      1129 non-null   object \n",
      " 5   profession    1129 non-null   object \n",
      " 6   traffic       1129 non-null   object \n",
      " 7   coach         1129 non-null   object \n",
      " 8   head_gender   1129 non-null   object \n",
      " 9   greywage      1129 non-null   object \n",
      " 10  way           1129 non-null   object \n",
      " 11  extraversion  1129 non-null   float64\n",
      " 12  independ      1129 non-null   float64\n",
      " 13  selfcontrol   1129 non-null   float64\n",
      " 14  anxiety       1129 non-null   float64\n",
      " 15  novator       1129 non-null   float64\n",
      "dtypes: float64(7), int64(1), object(8)\n",
      "memory usage: 141.2+ KB\n"
     ]
    },
    {
     "data": {
      "text/plain": [
       "None"
      ]
     },
     "metadata": {},
     "output_type": "display_data"
    }
   ],
   "source": [
    "display(data.info())"
   ]
  },
  {
   "cell_type": "code",
   "execution_count": 7,
   "id": "7222139c",
   "metadata": {},
   "outputs": [
    {
     "data": {
      "text/plain": [
       "f    75.6%\n",
       "m    24.4%\n",
       "Name: gender, dtype: object"
      ]
     },
     "metadata": {},
     "output_type": "display_data"
    }
   ],
   "source": [
    "#mostra a porcentagem de pessoas por genero\n",
    "display(data['gender'].value_counts(normalize=True).map(\"{:.1%}\".format))"
   ]
  },
  {
   "cell_type": "code",
   "execution_count": 8,
   "id": "cfce96eb",
   "metadata": {},
   "outputs": [
    {
     "data": {
      "text/plain": [
       "m    51.7%\n",
       "f    48.3%\n",
       "Name: head_gender, dtype: object"
      ]
     },
     "metadata": {},
     "output_type": "display_data"
    }
   ],
   "source": [
    "#mostra a porcentagem de pessoas por genero\n",
    "display(data['head_gender'].value_counts(normalize=True).map(\"{:.1%}\".format))"
   ]
  },
  {
   "cell_type": "code",
   "execution_count": 9,
   "id": "cd958e32",
   "metadata": {},
   "outputs": [
    {
     "data": {
      "text/plain": [
       "bus     60.3%\n",
       "car     29.3%\n",
       "foot    10.4%\n",
       "Name: way, dtype: object"
      ]
     },
     "metadata": {},
     "output_type": "display_data"
    }
   ],
   "source": [
    "#mostra a porcentagem de meios de transporte utilizado\n",
    "display(data['way'].value_counts(normalize=True).map(\"{:.1%}\".format))"
   ]
  },
  {
   "cell_type": "code",
   "execution_count": 11,
   "id": "57121278",
   "metadata": {},
   "outputs": [],
   "source": [
    "#transforma coluna age em inteiro\n",
    "data['age'] = data['age'].astype(np.int64, copy=False)"
   ]
  },
  {
   "cell_type": "code",
   "execution_count": 26,
   "id": "d62439a8",
   "metadata": {},
   "outputs": [],
   "source": [
    "# mudar male(m) para 0, female(f) para 1\n",
    "data.loc[data['head_gender'] == 'm', 'head_gender'] = 0\n",
    "data.loc[data['head_gender'] == 'f', 'head_gender'] = 1\n",
    "#transforma coluna sexo em inteiro\n",
    "data['head_gender'] = data['head_gender'].astype(np.int64, copy=False)"
   ]
  },
  {
   "cell_type": "code",
   "execution_count": 27,
   "id": "5781ab75",
   "metadata": {},
   "outputs": [],
   "source": [
    "# mudar male(m) para 0, female(f) para 1\n",
    "data.loc[data['gender'] == 'm', 'gender'] = 0\n",
    "data.loc[data['gender'] == 'f', 'gender'] = 1\n",
    "#transforma coluna sexo em inteiro\n",
    "data['gender'] = data['gender'].astype(np.int64, copy=False)"
   ]
  },
  {
   "cell_type": "code",
   "execution_count": 29,
   "id": "a61c924c",
   "metadata": {},
   "outputs": [],
   "source": [
    "#Transformando a coluna 'way','industry','profession' para valor binario com Dummies\n",
    "data = pd.get_dummies(data=data, columns=['way'])\n",
    "#data = pd.get_dummies(data=data, columns=['industry'])\n",
    "#data = pd.get_dummies(data=data, columns=['profession'])"
   ]
  },
  {
   "cell_type": "code",
   "execution_count": null,
   "id": "99873735",
   "metadata": {},
   "outputs": [],
   "source": [
    "data"
   ]
  },
  {
   "cell_type": "code",
   "execution_count": null,
   "id": "e6d3871f",
   "metadata": {},
   "outputs": [],
   "source": [
    "##\n",
    "\n",
    "# excluir gender para eliminar informação duplicada, gender e head_gender\n",
    "# no teste utilizando separadamente gender e head_gender, head_gender mostrou melhor performence do modelo\n",
    "data = data.drop('gender', axis=1)"
   ]
  },
  {
   "cell_type": "code",
   "execution_count": null,
   "id": "859f8be1",
   "metadata": {},
   "outputs": [],
   "source": [
    "##\n",
    "\n",
    "#Excluindo colunas desnecessárias tabela teste\n",
    "#data = data.drop('greywage', axis=1)\n",
    "#data = data.drop('coach', axis=1)\n",
    "#data = data.drop('traffic', axis=1)"
   ]
  },
  {
   "cell_type": "code",
   "execution_count": null,
   "id": "e38c5829",
   "metadata": {},
   "outputs": [],
   "source": [
    "##\n",
    "\n",
    "#Transformando a coluna 'way','industry','profession' para valor binario com Dummies\n",
    "data = pd.get_dummies(data=data, columns=['greywage'])\n",
    "data = pd.get_dummies(data=data, columns=['coach'])\n",
    "data = pd.get_dummies(data=data, columns=['traffic'])"
   ]
  },
  {
   "cell_type": "code",
   "execution_count": null,
   "id": "e328c246",
   "metadata": {},
   "outputs": [],
   "source": [
    "data"
   ]
  },
  {
   "cell_type": "code",
   "execution_count": 12,
   "id": "6e34364e",
   "metadata": {},
   "outputs": [
    {
     "name": "stdout",
     "output_type": "stream",
     "text": [
      "<class 'pandas.core.frame.DataFrame'>\n",
      "RangeIndex: 1129 entries, 0 to 1128\n",
      "Data columns (total 16 columns):\n",
      " #   Column        Non-Null Count  Dtype  \n",
      "---  ------        --------------  -----  \n",
      " 0   stag          1129 non-null   float64\n",
      " 1   event         1129 non-null   int64  \n",
      " 2   gender        1129 non-null   object \n",
      " 3   age           1129 non-null   int64  \n",
      " 4   industry      1129 non-null   object \n",
      " 5   profession    1129 non-null   object \n",
      " 6   traffic       1129 non-null   object \n",
      " 7   coach         1129 non-null   object \n",
      " 8   head_gender   1129 non-null   object \n",
      " 9   greywage      1129 non-null   object \n",
      " 10  way           1129 non-null   object \n",
      " 11  extraversion  1129 non-null   float64\n",
      " 12  independ      1129 non-null   float64\n",
      " 13  selfcontrol   1129 non-null   float64\n",
      " 14  anxiety       1129 non-null   float64\n",
      " 15  novator       1129 non-null   float64\n",
      "dtypes: float64(6), int64(2), object(8)\n",
      "memory usage: 141.2+ KB\n"
     ]
    },
    {
     "data": {
      "text/plain": [
       "None"
      ]
     },
     "metadata": {},
     "output_type": "display_data"
    }
   ],
   "source": [
    "#Conferindo resultado final\n",
    "display(data.info())"
   ]
  },
  {
   "cell_type": "code",
   "execution_count": 30,
   "id": "4e939fe7",
   "metadata": {},
   "outputs": [
    {
     "data": {
      "text/html": [
       "<div>\n",
       "<style scoped>\n",
       "    .dataframe tbody tr th:only-of-type {\n",
       "        vertical-align: middle;\n",
       "    }\n",
       "\n",
       "    .dataframe tbody tr th {\n",
       "        vertical-align: top;\n",
       "    }\n",
       "\n",
       "    .dataframe thead th {\n",
       "        text-align: right;\n",
       "    }\n",
       "</style>\n",
       "<table border=\"1\" class=\"dataframe\">\n",
       "  <thead>\n",
       "    <tr style=\"text-align: right;\">\n",
       "      <th></th>\n",
       "      <th>stag</th>\n",
       "      <th>event</th>\n",
       "      <th>gender</th>\n",
       "      <th>age</th>\n",
       "      <th>head_gender</th>\n",
       "      <th>extraversion</th>\n",
       "      <th>independ</th>\n",
       "      <th>selfcontrol</th>\n",
       "      <th>anxiety</th>\n",
       "      <th>novator</th>\n",
       "      <th>way_bus</th>\n",
       "      <th>way_car</th>\n",
       "      <th>way_foot</th>\n",
       "    </tr>\n",
       "  </thead>\n",
       "  <tbody>\n",
       "    <tr>\n",
       "      <th>stag</th>\n",
       "      <td>1.000000</td>\n",
       "      <td>-0.048361</td>\n",
       "      <td>-0.042269</td>\n",
       "      <td>-0.197390</td>\n",
       "      <td>0.006827</td>\n",
       "      <td>-0.088227</td>\n",
       "      <td>0.000550</td>\n",
       "      <td>0.077076</td>\n",
       "      <td>0.014755</td>\n",
       "      <td>-0.037633</td>\n",
       "      <td>-0.099126</td>\n",
       "      <td>0.102824</td>\n",
       "      <td>0.005540</td>\n",
       "    </tr>\n",
       "    <tr>\n",
       "      <th>event</th>\n",
       "      <td>-0.048361</td>\n",
       "      <td>1.000000</td>\n",
       "      <td>0.018917</td>\n",
       "      <td>-0.048996</td>\n",
       "      <td>-0.041259</td>\n",
       "      <td>0.015458</td>\n",
       "      <td>0.051864</td>\n",
       "      <td>-0.040040</td>\n",
       "      <td>-0.063232</td>\n",
       "      <td>0.006825</td>\n",
       "      <td>0.034688</td>\n",
       "      <td>0.025663</td>\n",
       "      <td>-0.094012</td>\n",
       "    </tr>\n",
       "    <tr>\n",
       "      <th>gender</th>\n",
       "      <td>-0.042269</td>\n",
       "      <td>0.018917</td>\n",
       "      <td>1.000000</td>\n",
       "      <td>-0.055816</td>\n",
       "      <td>0.211305</td>\n",
       "      <td>0.146428</td>\n",
       "      <td>0.124849</td>\n",
       "      <td>-0.075138</td>\n",
       "      <td>-0.319064</td>\n",
       "      <td>-0.011070</td>\n",
       "      <td>0.103125</td>\n",
       "      <td>-0.127140</td>\n",
       "      <td>0.024359</td>\n",
       "    </tr>\n",
       "    <tr>\n",
       "      <th>age</th>\n",
       "      <td>-0.197390</td>\n",
       "      <td>-0.048996</td>\n",
       "      <td>-0.055816</td>\n",
       "      <td>1.000000</td>\n",
       "      <td>-0.197888</td>\n",
       "      <td>-0.150086</td>\n",
       "      <td>0.055992</td>\n",
       "      <td>0.039239</td>\n",
       "      <td>0.058016</td>\n",
       "      <td>0.039534</td>\n",
       "      <td>-0.097967</td>\n",
       "      <td>0.120162</td>\n",
       "      <td>-0.022216</td>\n",
       "    </tr>\n",
       "    <tr>\n",
       "      <th>head_gender</th>\n",
       "      <td>0.006827</td>\n",
       "      <td>-0.041259</td>\n",
       "      <td>0.211305</td>\n",
       "      <td>-0.197888</td>\n",
       "      <td>1.000000</td>\n",
       "      <td>0.006274</td>\n",
       "      <td>0.045154</td>\n",
       "      <td>0.041462</td>\n",
       "      <td>-0.042197</td>\n",
       "      <td>-0.042840</td>\n",
       "      <td>0.048050</td>\n",
       "      <td>-0.092606</td>\n",
       "      <td>0.061186</td>\n",
       "    </tr>\n",
       "    <tr>\n",
       "      <th>extraversion</th>\n",
       "      <td>-0.088227</td>\n",
       "      <td>0.015458</td>\n",
       "      <td>0.146428</td>\n",
       "      <td>-0.150086</td>\n",
       "      <td>0.006274</td>\n",
       "      <td>1.000000</td>\n",
       "      <td>-0.200052</td>\n",
       "      <td>-0.538039</td>\n",
       "      <td>-0.135046</td>\n",
       "      <td>0.297375</td>\n",
       "      <td>-0.036401</td>\n",
       "      <td>0.045123</td>\n",
       "      <td>-0.008964</td>\n",
       "    </tr>\n",
       "    <tr>\n",
       "      <th>independ</th>\n",
       "      <td>0.000550</td>\n",
       "      <td>0.051864</td>\n",
       "      <td>0.124849</td>\n",
       "      <td>0.055992</td>\n",
       "      <td>0.045154</td>\n",
       "      <td>-0.200052</td>\n",
       "      <td>1.000000</td>\n",
       "      <td>-0.165795</td>\n",
       "      <td>-0.427209</td>\n",
       "      <td>0.023865</td>\n",
       "      <td>0.038238</td>\n",
       "      <td>-0.047461</td>\n",
       "      <td>0.009508</td>\n",
       "    </tr>\n",
       "    <tr>\n",
       "      <th>selfcontrol</th>\n",
       "      <td>0.077076</td>\n",
       "      <td>-0.040040</td>\n",
       "      <td>-0.075138</td>\n",
       "      <td>0.039239</td>\n",
       "      <td>0.041462</td>\n",
       "      <td>-0.538039</td>\n",
       "      <td>-0.165795</td>\n",
       "      <td>1.000000</td>\n",
       "      <td>-0.107568</td>\n",
       "      <td>-0.565972</td>\n",
       "      <td>0.050466</td>\n",
       "      <td>-0.052783</td>\n",
       "      <td>-0.002171</td>\n",
       "    </tr>\n",
       "    <tr>\n",
       "      <th>anxiety</th>\n",
       "      <td>0.014755</td>\n",
       "      <td>-0.063232</td>\n",
       "      <td>-0.319064</td>\n",
       "      <td>0.058016</td>\n",
       "      <td>-0.042197</td>\n",
       "      <td>-0.135046</td>\n",
       "      <td>-0.427209</td>\n",
       "      <td>-0.107568</td>\n",
       "      <td>1.000000</td>\n",
       "      <td>0.246668</td>\n",
       "      <td>-0.087423</td>\n",
       "      <td>0.087327</td>\n",
       "      <td>0.009902</td>\n",
       "    </tr>\n",
       "    <tr>\n",
       "      <th>novator</th>\n",
       "      <td>-0.037633</td>\n",
       "      <td>0.006825</td>\n",
       "      <td>-0.011070</td>\n",
       "      <td>0.039534</td>\n",
       "      <td>-0.042840</td>\n",
       "      <td>0.297375</td>\n",
       "      <td>0.023865</td>\n",
       "      <td>-0.565972</td>\n",
       "      <td>0.246668</td>\n",
       "      <td>1.000000</td>\n",
       "      <td>-0.089731</td>\n",
       "      <td>0.065169</td>\n",
       "      <td>0.046701</td>\n",
       "    </tr>\n",
       "    <tr>\n",
       "      <th>way_bus</th>\n",
       "      <td>-0.099126</td>\n",
       "      <td>0.034688</td>\n",
       "      <td>0.103125</td>\n",
       "      <td>-0.097967</td>\n",
       "      <td>0.048050</td>\n",
       "      <td>-0.036401</td>\n",
       "      <td>0.038238</td>\n",
       "      <td>0.050466</td>\n",
       "      <td>-0.087423</td>\n",
       "      <td>-0.089731</td>\n",
       "      <td>1.000000</td>\n",
       "      <td>-0.794049</td>\n",
       "      <td>-0.419215</td>\n",
       "    </tr>\n",
       "    <tr>\n",
       "      <th>way_car</th>\n",
       "      <td>0.102824</td>\n",
       "      <td>0.025663</td>\n",
       "      <td>-0.127140</td>\n",
       "      <td>0.120162</td>\n",
       "      <td>-0.092606</td>\n",
       "      <td>0.045123</td>\n",
       "      <td>-0.047461</td>\n",
       "      <td>-0.052783</td>\n",
       "      <td>0.087327</td>\n",
       "      <td>0.065169</td>\n",
       "      <td>-0.794049</td>\n",
       "      <td>1.000000</td>\n",
       "      <td>-0.218985</td>\n",
       "    </tr>\n",
       "    <tr>\n",
       "      <th>way_foot</th>\n",
       "      <td>0.005540</td>\n",
       "      <td>-0.094012</td>\n",
       "      <td>0.024359</td>\n",
       "      <td>-0.022216</td>\n",
       "      <td>0.061186</td>\n",
       "      <td>-0.008964</td>\n",
       "      <td>0.009508</td>\n",
       "      <td>-0.002171</td>\n",
       "      <td>0.009902</td>\n",
       "      <td>0.046701</td>\n",
       "      <td>-0.419215</td>\n",
       "      <td>-0.218985</td>\n",
       "      <td>1.000000</td>\n",
       "    </tr>\n",
       "  </tbody>\n",
       "</table>\n",
       "</div>"
      ],
      "text/plain": [
       "                  stag     event    gender       age  head_gender  \\\n",
       "stag          1.000000 -0.048361 -0.042269 -0.197390     0.006827   \n",
       "event        -0.048361  1.000000  0.018917 -0.048996    -0.041259   \n",
       "gender       -0.042269  0.018917  1.000000 -0.055816     0.211305   \n",
       "age          -0.197390 -0.048996 -0.055816  1.000000    -0.197888   \n",
       "head_gender   0.006827 -0.041259  0.211305 -0.197888     1.000000   \n",
       "extraversion -0.088227  0.015458  0.146428 -0.150086     0.006274   \n",
       "independ      0.000550  0.051864  0.124849  0.055992     0.045154   \n",
       "selfcontrol   0.077076 -0.040040 -0.075138  0.039239     0.041462   \n",
       "anxiety       0.014755 -0.063232 -0.319064  0.058016    -0.042197   \n",
       "novator      -0.037633  0.006825 -0.011070  0.039534    -0.042840   \n",
       "way_bus      -0.099126  0.034688  0.103125 -0.097967     0.048050   \n",
       "way_car       0.102824  0.025663 -0.127140  0.120162    -0.092606   \n",
       "way_foot      0.005540 -0.094012  0.024359 -0.022216     0.061186   \n",
       "\n",
       "              extraversion  independ  selfcontrol   anxiety   novator  \\\n",
       "stag             -0.088227  0.000550     0.077076  0.014755 -0.037633   \n",
       "event             0.015458  0.051864    -0.040040 -0.063232  0.006825   \n",
       "gender            0.146428  0.124849    -0.075138 -0.319064 -0.011070   \n",
       "age              -0.150086  0.055992     0.039239  0.058016  0.039534   \n",
       "head_gender       0.006274  0.045154     0.041462 -0.042197 -0.042840   \n",
       "extraversion      1.000000 -0.200052    -0.538039 -0.135046  0.297375   \n",
       "independ         -0.200052  1.000000    -0.165795 -0.427209  0.023865   \n",
       "selfcontrol      -0.538039 -0.165795     1.000000 -0.107568 -0.565972   \n",
       "anxiety          -0.135046 -0.427209    -0.107568  1.000000  0.246668   \n",
       "novator           0.297375  0.023865    -0.565972  0.246668  1.000000   \n",
       "way_bus          -0.036401  0.038238     0.050466 -0.087423 -0.089731   \n",
       "way_car           0.045123 -0.047461    -0.052783  0.087327  0.065169   \n",
       "way_foot         -0.008964  0.009508    -0.002171  0.009902  0.046701   \n",
       "\n",
       "               way_bus   way_car  way_foot  \n",
       "stag         -0.099126  0.102824  0.005540  \n",
       "event         0.034688  0.025663 -0.094012  \n",
       "gender        0.103125 -0.127140  0.024359  \n",
       "age          -0.097967  0.120162 -0.022216  \n",
       "head_gender   0.048050 -0.092606  0.061186  \n",
       "extraversion -0.036401  0.045123 -0.008964  \n",
       "independ      0.038238 -0.047461  0.009508  \n",
       "selfcontrol   0.050466 -0.052783 -0.002171  \n",
       "anxiety      -0.087423  0.087327  0.009902  \n",
       "novator      -0.089731  0.065169  0.046701  \n",
       "way_bus       1.000000 -0.794049 -0.419215  \n",
       "way_car      -0.794049  1.000000 -0.218985  \n",
       "way_foot     -0.419215 -0.218985  1.000000  "
      ]
     },
     "execution_count": 30,
     "metadata": {},
     "output_type": "execute_result"
    }
   ],
   "source": [
    "data.corr()"
   ]
  },
  {
   "cell_type": "markdown",
   "id": "b6b6f72c",
   "metadata": {},
   "source": [
    "## Plotando Gráfico para análise"
   ]
  },
  {
   "cell_type": "code",
   "execution_count": 20,
   "id": "d5d44625",
   "metadata": {},
   "outputs": [],
   "source": [
    "import numpy as np\n",
    "import seaborn as sns"
   ]
  },
  {
   "cell_type": "code",
   "execution_count": 13,
   "id": "19d65b76",
   "metadata": {},
   "outputs": [
    {
     "name": "stderr",
     "output_type": "stream",
     "text": [
      "<__array_function__ internals>:5: RuntimeWarning: Converting input from bool to <class 'numpy.uint8'> for compatibility.\n",
      "<__array_function__ internals>:5: RuntimeWarning: Converting input from bool to <class 'numpy.uint8'> for compatibility.\n"
     ]
    },
    {
     "data": {
      "text/plain": [
       "<matplotlib.legend.Legend at 0x9652b1fee0>"
      ]
     },
     "execution_count": 13,
     "metadata": {},
     "output_type": "execute_result"
    },
    {
     "data": {
      "image/png": "[encoded data removed]",
      "text/plain": [
       "<Figure size 432x288 with 1 Axes>"
      ]
     },
     "metadata": {
      "needs_background": "light"
     },
     "output_type": "display_data"
    }
   ],
   "source": [
    "event=No = data[data.event==0].head_gender\n",
    "event=Yes = data[data.event==1].head_gender\n",
    "\n",
    "plt.xlabel(\"head_gender\")\n",
    "plt.ylabel(\"Number Of Customers\")\n",
    "plt.title(\"Customer Exited Prediction Visualiztion\")\n",
    "\n",
    "plt.hist([event==1,event==0], rwidth=0.95, color=['green','red'],label=['event=Yes','event=No'])\n",
    "plt.legend()"
   ]
  },
  {
   "cell_type": "markdown",
   "id": "02fbbf34",
   "metadata": {},
   "source": [
    "# Preparo e Treinamento"
   ]
  },
  {
   "cell_type": "code",
   "execution_count": null,
   "id": "4a3ad4dc",
   "metadata": {},
   "outputs": [],
   "source": [
    "from sklearn.metrics import accuracy_score"
   ]
  },
  {
   "cell_type": "code",
   "execution_count": null,
   "id": "aee605bc",
   "metadata": {},
   "outputs": [],
   "source": [
    "#Separando os dados dados em dados de entrada e dados de saida\n",
    "X = data.drop('event', axis=1)\n",
    "Y = data[['event']]"
   ]
  },
  {
   "cell_type": "code",
   "execution_count": null,
   "id": "d9d88ff8",
   "metadata": {},
   "outputs": [],
   "source": [
    "#Dividindo aleatoriamente os dados em treinamento e teste\n",
    "X_train,X_test,y_train,y_test = train_test_split(X, Y, test_size=0.20, random_state=70)"
   ]
  },
  {
   "cell_type": "code",
   "execution_count": null,
   "id": "5f0c14cc",
   "metadata": {},
   "outputs": [],
   "source": [
    "#Instanciando o modelo RandonForestClassifier neste caso com o hiperparâmetros default\n",
    "RFC = RandomForestClassifier()"
   ]
  },
  {
   "cell_type": "code",
   "execution_count": null,
   "id": "18dc75ab",
   "metadata": {},
   "outputs": [],
   "source": [
    "#Treinando o modelo com os dados de treinamento\n",
    "RFC.fit(X_train,y_train)"
   ]
  },
  {
   "cell_type": "code",
   "execution_count": null,
   "id": "d4d6f08f",
   "metadata": {},
   "outputs": [],
   "source": [
    "#Realizando predições com meu modelo\n",
    "y_pred = RFC.predict(X_test)"
   ]
  },
  {
   "cell_type": "code",
   "execution_count": null,
   "id": "6456c1f1",
   "metadata": {},
   "outputs": [],
   "source": [
    "RFC.score(X_test, y_test)"
   ]
  },
  {
   "cell_type": "code",
   "execution_count": null,
   "id": "77b3a6b2",
   "metadata": {},
   "outputs": [],
   "source": [
    "#Verificando as métricas alcançadas pelo meu modelo\n",
    "print(classification_report(y_test, y_pred, labels=[0,1]))"
   ]
  },
  {
   "cell_type": "code",
   "execution_count": null,
   "id": "7e601610",
   "metadata": {},
   "outputs": [],
   "source": [
    "accuracy = accuracy_score(y_test, y_pred)*100\n",
    "print('Accuracy of our model is equal ' + str(round(accuracy, 2)) + ' %.')"
   ]
  },
  {
   "cell_type": "code",
   "execution_count": null,
   "id": "feef442c",
   "metadata": {},
   "outputs": [],
   "source": [
    "import xgboost as xgb"
   ]
  },
  {
   "cell_type": "code",
   "execution_count": null,
   "id": "e96565ec",
   "metadata": {},
   "outputs": [],
   "source": [
    "modelo2 = xgb.XGBClassifier()"
   ]
  },
  {
   "cell_type": "code",
   "execution_count": null,
   "id": "b19454fb",
   "metadata": {},
   "outputs": [],
   "source": [
    "modelo2 = modelo2.fit(X_train,y_train)"
   ]
  },
  {
   "cell_type": "code",
   "execution_count": null,
   "id": "648d07b6",
   "metadata": {},
   "outputs": [],
   "source": [
    "y_pred = modelo2.predict(X_test)"
   ]
  },
  {
   "cell_type": "code",
   "execution_count": null,
   "id": "f2b5d5d4",
   "metadata": {},
   "outputs": [],
   "source": [
    "print(classification_report(y_test, y_pred, labels=[0,1]))"
   ]
  },
  {
   "cell_type": "code",
   "execution_count": null,
   "id": "29ed4f30",
   "metadata": {},
   "outputs": [],
   "source": [
    "modelo2.score(X_test, y_test)"
   ]
  },
  {
   "cell_type": "code",
   "execution_count": null,
   "id": "ad8b77d8",
   "metadata": {},
   "outputs": [],
   "source": [
    "accuracy = accuracy_score(y_test, y_pred)*100\n",
    "print('Accuracy of our model is equal ' + str(round(accuracy, 2)) + ' %.')"
   ]
  },
  {
   "cell_type": "code",
   "execution_count": null,
   "id": "a0933984",
   "metadata": {},
   "outputs": [],
   "source": [
    "from sklearn.naive_bayes import GaussianNB"
   ]
  },
  {
   "cell_type": "code",
   "execution_count": null,
   "id": "a7b83cf6",
   "metadata": {},
   "outputs": [],
   "source": [
    "gnb = GaussianNB()\n",
    "y_pred = gnb.fit(X_train, y_train).predict(X_test)"
   ]
  },
  {
   "cell_type": "code",
   "execution_count": null,
   "id": "efaae28f",
   "metadata": {},
   "outputs": [],
   "source": [
    "gnb.score(X_test, y_test)"
   ]
  },
  {
   "cell_type": "code",
   "execution_count": null,
   "id": "48aeda82",
   "metadata": {},
   "outputs": [],
   "source": [
    "accuracy = accuracy_score(y_test, y_pred)*100\n",
    "print('Accuracy of our model is equal ' + str(round(accuracy, 2)) + ' %.')"
   ]
  },
  {
   "cell_type": "code",
   "execution_count": null,
   "id": "3079180f",
   "metadata": {},
   "outputs": [],
   "source": [
    "from sklearn import tree\n",
    "clf = tree.DecisionTreeClassifier()\n",
    "clf = clf.fit(X_train, y_train).predict(X_test)"
   ]
  },
  {
   "cell_type": "code",
   "execution_count": null,
   "id": "560a2d3c",
   "metadata": {},
   "outputs": [],
   "source": [
    "accuracy = accuracy_score(y_test, y_pred)*100\n",
    "print('Accuracy of our model is equal ' + str(round(accuracy, 2)) + ' %.')"
   ]
  },
  {
   "cell_type": "code",
   "execution_count": null,
   "id": "a478db17",
   "metadata": {},
   "outputs": [],
   "source": []
  },
  {
   "cell_type": "code",
   "execution_count": null,
   "id": "5adff176",
   "metadata": {},
   "outputs": [],
   "source": []
  },
  {
   "cell_type": "code",
   "execution_count": null,
   "id": "f98ff376",
   "metadata": {},
   "outputs": [],
   "source": []
  },
  {
   "cell_type": "code",
   "execution_count": null,
   "id": "0d17412a",
   "metadata": {},
   "outputs": [],
   "source": [
    "#Analisando as melhores Features para o meu modelo\n",
    "feature_melhores = pd.Series(modelo.feature_importances_,index=X_train.columns)\n",
    "feature_melhores.nlargest(14).plot(kind='barh')"
   ]
  },
  {
   "cell_type": "code",
   "execution_count": null,
   "id": "83265e5f",
   "metadata": {},
   "outputs": [],
   "source": []
  }
 ],
 "metadata": {
  "kernelspec": {
   "display_name": "Python 3",
   "language": "python",
   "name": "python3"
  },
  "language_info": {
   "codemirror_mode": {
    "name": "ipython",
    "version": 3
   },
   "file_extension": ".py",
   "mimetype": "text/x-python",
   "name": "python",
   "nbconvert_exporter": "python",
   "pygments_lexer": "ipython3",
   "version": "3.8.8"
  }
 },
 "nbformat": 4,
 "nbformat_minor": 5
}
