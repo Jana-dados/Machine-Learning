{
 "cells": [
  {
   "cell_type": "markdown",
   "metadata": {},
   "source": [
    "# House Prices Kaggle"
   ]
  },
  {
   "cell_type": "code",
   "execution_count": 1,
   "metadata": {},
   "outputs": [],
   "source": [
    "import pandas as pd\n",
    "import numpy as np\n"
   ]
  },
  {
   "cell_type": "code",
   "execution_count": 2,
   "metadata": {},
   "outputs": [],
   "source": [
    "# carregando os dados de treino\n",
    "treino_completa = pd.read_csv(r'C:\\Users\\janaina\\Documents\\PythonFundamentos\\home-data-for-ml-course\\train.csv')\n",
    "\n",
    "# carregando os dados de teste\n",
    "teste_completa = pd.read_csv(r'C:\\Users\\janaina\\Documents\\PythonFundamentos\\home-data-for-ml-course\\test.csv')"
   ]
  },
  {
   "cell_type": "code",
   "execution_count": 3,
   "metadata": {},
   "outputs": [],
   "source": [
    "# Selecionando algumas colunas mais importantes Tabela Treino\n",
    "treino= treino_completa[['SalePrice','MSZoning','LotFrontage','LotArea','Street','LandContour','LotConfig','LandSlope','OverallQual','OverallCond','ExterQual','ExterCond', 'BsmtQual','BsmtCond','BsmtUnfSF','TotalBsmtSF','3SsnPorch','Heating','HeatingQC','CentralAir','1stFlrSF','2ndFlrSF','GrLivArea','BsmtFullBath','BsmtHalfBath','FullBath','HalfBath','KitchenAbvGr','KitchenQual','TotRmsAbvGrd','Fireplaces','FireplaceQu','GarageCars','GarageArea','GarageQual','WoodDeckSF','PoolArea']]\n",
    "# Selecionando algumas colunas mais importantes Tabela Teste\n",
    "teste= teste_completa[['MSZoning','LotFrontage','LotArea','Street','LandContour','LotConfig','LandSlope','OverallQual','OverallCond','ExterQual','ExterCond', 'BsmtQual','BsmtCond','BsmtUnfSF','TotalBsmtSF','3SsnPorch','Heating','HeatingQC','CentralAir','1stFlrSF','2ndFlrSF','GrLivArea','BsmtFullBath','BsmtHalfBath','FullBath','HalfBath','KitchenAbvGr','KitchenQual','TotRmsAbvGrd','Fireplaces','FireplaceQu','GarageCars','GarageArea','GarageQual','WoodDeckSF','PoolArea']]"
   ]
  },
  {
   "cell_type": "markdown",
   "metadata": {},
   "source": [
    "# Normalisando Dados Tabela Treino"
   ]
  },
  {
   "cell_type": "code",
   "execution_count": 4,
   "metadata": {},
   "outputs": [
    {
     "data": {
      "text/html": [
       "<div>\n",
       "<style scoped>\n",
       "    .dataframe tbody tr th:only-of-type {\n",
       "        vertical-align: middle;\n",
       "    }\n",
       "\n",
       "    .dataframe tbody tr th {\n",
       "        vertical-align: top;\n",
       "    }\n",
       "\n",
       "    .dataframe thead th {\n",
       "        text-align: right;\n",
       "    }\n",
       "</style>\n",
       "<table border=\"1\" class=\"dataframe\">\n",
       "  <thead>\n",
       "    <tr style=\"text-align: right;\">\n",
       "      <th></th>\n",
       "      <th>SalePrice</th>\n",
       "      <th>MSZoning</th>\n",
       "      <th>LotFrontage</th>\n",
       "      <th>LotArea</th>\n",
       "      <th>Street</th>\n",
       "      <th>LandContour</th>\n",
       "      <th>LotConfig</th>\n",
       "      <th>LandSlope</th>\n",
       "      <th>OverallQual</th>\n",
       "      <th>OverallCond</th>\n",
       "      <th>...</th>\n",
       "      <th>KitchenAbvGr</th>\n",
       "      <th>KitchenQual</th>\n",
       "      <th>TotRmsAbvGrd</th>\n",
       "      <th>Fireplaces</th>\n",
       "      <th>FireplaceQu</th>\n",
       "      <th>GarageCars</th>\n",
       "      <th>GarageArea</th>\n",
       "      <th>GarageQual</th>\n",
       "      <th>WoodDeckSF</th>\n",
       "      <th>PoolArea</th>\n",
       "    </tr>\n",
       "  </thead>\n",
       "  <tbody>\n",
       "    <tr>\n",
       "      <th>0</th>\n",
       "      <td>208500</td>\n",
       "      <td>RL</td>\n",
       "      <td>65.0</td>\n",
       "      <td>8450</td>\n",
       "      <td>Pave</td>\n",
       "      <td>Lvl</td>\n",
       "      <td>Inside</td>\n",
       "      <td>Gtl</td>\n",
       "      <td>7</td>\n",
       "      <td>5</td>\n",
       "      <td>...</td>\n",
       "      <td>1</td>\n",
       "      <td>Gd</td>\n",
       "      <td>8</td>\n",
       "      <td>0</td>\n",
       "      <td>NaN</td>\n",
       "      <td>2</td>\n",
       "      <td>548</td>\n",
       "      <td>TA</td>\n",
       "      <td>0</td>\n",
       "      <td>0</td>\n",
       "    </tr>\n",
       "    <tr>\n",
       "      <th>1</th>\n",
       "      <td>181500</td>\n",
       "      <td>RL</td>\n",
       "      <td>80.0</td>\n",
       "      <td>9600</td>\n",
       "      <td>Pave</td>\n",
       "      <td>Lvl</td>\n",
       "      <td>FR2</td>\n",
       "      <td>Gtl</td>\n",
       "      <td>6</td>\n",
       "      <td>8</td>\n",
       "      <td>...</td>\n",
       "      <td>1</td>\n",
       "      <td>TA</td>\n",
       "      <td>6</td>\n",
       "      <td>1</td>\n",
       "      <td>TA</td>\n",
       "      <td>2</td>\n",
       "      <td>460</td>\n",
       "      <td>TA</td>\n",
       "      <td>298</td>\n",
       "      <td>0</td>\n",
       "    </tr>\n",
       "    <tr>\n",
       "      <th>2</th>\n",
       "      <td>223500</td>\n",
       "      <td>RL</td>\n",
       "      <td>68.0</td>\n",
       "      <td>11250</td>\n",
       "      <td>Pave</td>\n",
       "      <td>Lvl</td>\n",
       "      <td>Inside</td>\n",
       "      <td>Gtl</td>\n",
       "      <td>7</td>\n",
       "      <td>5</td>\n",
       "      <td>...</td>\n",
       "      <td>1</td>\n",
       "      <td>Gd</td>\n",
       "      <td>6</td>\n",
       "      <td>1</td>\n",
       "      <td>TA</td>\n",
       "      <td>2</td>\n",
       "      <td>608</td>\n",
       "      <td>TA</td>\n",
       "      <td>0</td>\n",
       "      <td>0</td>\n",
       "    </tr>\n",
       "    <tr>\n",
       "      <th>3</th>\n",
       "      <td>140000</td>\n",
       "      <td>RL</td>\n",
       "      <td>60.0</td>\n",
       "      <td>9550</td>\n",
       "      <td>Pave</td>\n",
       "      <td>Lvl</td>\n",
       "      <td>Corner</td>\n",
       "      <td>Gtl</td>\n",
       "      <td>7</td>\n",
       "      <td>5</td>\n",
       "      <td>...</td>\n",
       "      <td>1</td>\n",
       "      <td>Gd</td>\n",
       "      <td>7</td>\n",
       "      <td>1</td>\n",
       "      <td>Gd</td>\n",
       "      <td>3</td>\n",
       "      <td>642</td>\n",
       "      <td>TA</td>\n",
       "      <td>0</td>\n",
       "      <td>0</td>\n",
       "    </tr>\n",
       "    <tr>\n",
       "      <th>4</th>\n",
       "      <td>250000</td>\n",
       "      <td>RL</td>\n",
       "      <td>84.0</td>\n",
       "      <td>14260</td>\n",
       "      <td>Pave</td>\n",
       "      <td>Lvl</td>\n",
       "      <td>FR2</td>\n",
       "      <td>Gtl</td>\n",
       "      <td>8</td>\n",
       "      <td>5</td>\n",
       "      <td>...</td>\n",
       "      <td>1</td>\n",
       "      <td>Gd</td>\n",
       "      <td>9</td>\n",
       "      <td>1</td>\n",
       "      <td>TA</td>\n",
       "      <td>3</td>\n",
       "      <td>836</td>\n",
       "      <td>TA</td>\n",
       "      <td>192</td>\n",
       "      <td>0</td>\n",
       "    </tr>\n",
       "    <tr>\n",
       "      <th>...</th>\n",
       "      <td>...</td>\n",
       "      <td>...</td>\n",
       "      <td>...</td>\n",
       "      <td>...</td>\n",
       "      <td>...</td>\n",
       "      <td>...</td>\n",
       "      <td>...</td>\n",
       "      <td>...</td>\n",
       "      <td>...</td>\n",
       "      <td>...</td>\n",
       "      <td>...</td>\n",
       "      <td>...</td>\n",
       "      <td>...</td>\n",
       "      <td>...</td>\n",
       "      <td>...</td>\n",
       "      <td>...</td>\n",
       "      <td>...</td>\n",
       "      <td>...</td>\n",
       "      <td>...</td>\n",
       "      <td>...</td>\n",
       "      <td>...</td>\n",
       "    </tr>\n",
       "    <tr>\n",
       "      <th>1455</th>\n",
       "      <td>175000</td>\n",
       "      <td>RL</td>\n",
       "      <td>62.0</td>\n",
       "      <td>7917</td>\n",
       "      <td>Pave</td>\n",
       "      <td>Lvl</td>\n",
       "      <td>Inside</td>\n",
       "      <td>Gtl</td>\n",
       "      <td>6</td>\n",
       "      <td>5</td>\n",
       "      <td>...</td>\n",
       "      <td>1</td>\n",
       "      <td>TA</td>\n",
       "      <td>7</td>\n",
       "      <td>1</td>\n",
       "      <td>TA</td>\n",
       "      <td>2</td>\n",
       "      <td>460</td>\n",
       "      <td>TA</td>\n",
       "      <td>0</td>\n",
       "      <td>0</td>\n",
       "    </tr>\n",
       "    <tr>\n",
       "      <th>1456</th>\n",
       "      <td>210000</td>\n",
       "      <td>RL</td>\n",
       "      <td>85.0</td>\n",
       "      <td>13175</td>\n",
       "      <td>Pave</td>\n",
       "      <td>Lvl</td>\n",
       "      <td>Inside</td>\n",
       "      <td>Gtl</td>\n",
       "      <td>6</td>\n",
       "      <td>6</td>\n",
       "      <td>...</td>\n",
       "      <td>1</td>\n",
       "      <td>TA</td>\n",
       "      <td>7</td>\n",
       "      <td>2</td>\n",
       "      <td>TA</td>\n",
       "      <td>2</td>\n",
       "      <td>500</td>\n",
       "      <td>TA</td>\n",
       "      <td>349</td>\n",
       "      <td>0</td>\n",
       "    </tr>\n",
       "    <tr>\n",
       "      <th>1457</th>\n",
       "      <td>266500</td>\n",
       "      <td>RL</td>\n",
       "      <td>66.0</td>\n",
       "      <td>9042</td>\n",
       "      <td>Pave</td>\n",
       "      <td>Lvl</td>\n",
       "      <td>Inside</td>\n",
       "      <td>Gtl</td>\n",
       "      <td>7</td>\n",
       "      <td>9</td>\n",
       "      <td>...</td>\n",
       "      <td>1</td>\n",
       "      <td>Gd</td>\n",
       "      <td>9</td>\n",
       "      <td>2</td>\n",
       "      <td>Gd</td>\n",
       "      <td>1</td>\n",
       "      <td>252</td>\n",
       "      <td>TA</td>\n",
       "      <td>0</td>\n",
       "      <td>0</td>\n",
       "    </tr>\n",
       "    <tr>\n",
       "      <th>1458</th>\n",
       "      <td>142125</td>\n",
       "      <td>RL</td>\n",
       "      <td>68.0</td>\n",
       "      <td>9717</td>\n",
       "      <td>Pave</td>\n",
       "      <td>Lvl</td>\n",
       "      <td>Inside</td>\n",
       "      <td>Gtl</td>\n",
       "      <td>5</td>\n",
       "      <td>6</td>\n",
       "      <td>...</td>\n",
       "      <td>1</td>\n",
       "      <td>Gd</td>\n",
       "      <td>5</td>\n",
       "      <td>0</td>\n",
       "      <td>NaN</td>\n",
       "      <td>1</td>\n",
       "      <td>240</td>\n",
       "      <td>TA</td>\n",
       "      <td>366</td>\n",
       "      <td>0</td>\n",
       "    </tr>\n",
       "    <tr>\n",
       "      <th>1459</th>\n",
       "      <td>147500</td>\n",
       "      <td>RL</td>\n",
       "      <td>75.0</td>\n",
       "      <td>9937</td>\n",
       "      <td>Pave</td>\n",
       "      <td>Lvl</td>\n",
       "      <td>Inside</td>\n",
       "      <td>Gtl</td>\n",
       "      <td>5</td>\n",
       "      <td>6</td>\n",
       "      <td>...</td>\n",
       "      <td>1</td>\n",
       "      <td>TA</td>\n",
       "      <td>6</td>\n",
       "      <td>0</td>\n",
       "      <td>NaN</td>\n",
       "      <td>1</td>\n",
       "      <td>276</td>\n",
       "      <td>TA</td>\n",
       "      <td>736</td>\n",
       "      <td>0</td>\n",
       "    </tr>\n",
       "  </tbody>\n",
       "</table>\n",
       "<p>1460 rows × 37 columns</p>\n",
       "</div>"
      ],
      "text/plain": [
       "      SalePrice MSZoning  LotFrontage  LotArea Street LandContour LotConfig  \\\n",
       "0        208500       RL         65.0     8450   Pave         Lvl    Inside   \n",
       "1        181500       RL         80.0     9600   Pave         Lvl       FR2   \n",
       "2        223500       RL         68.0    11250   Pave         Lvl    Inside   \n",
       "3        140000       RL         60.0     9550   Pave         Lvl    Corner   \n",
       "4        250000       RL         84.0    14260   Pave         Lvl       FR2   \n",
       "...         ...      ...          ...      ...    ...         ...       ...   \n",
       "1455     175000       RL         62.0     7917   Pave         Lvl    Inside   \n",
       "1456     210000       RL         85.0    13175   Pave         Lvl    Inside   \n",
       "1457     266500       RL         66.0     9042   Pave         Lvl    Inside   \n",
       "1458     142125       RL         68.0     9717   Pave         Lvl    Inside   \n",
       "1459     147500       RL         75.0     9937   Pave         Lvl    Inside   \n",
       "\n",
       "     LandSlope  OverallQual  OverallCond  ... KitchenAbvGr KitchenQual  \\\n",
       "0          Gtl            7            5  ...            1          Gd   \n",
       "1          Gtl            6            8  ...            1          TA   \n",
       "2          Gtl            7            5  ...            1          Gd   \n",
       "3          Gtl            7            5  ...            1          Gd   \n",
       "4          Gtl            8            5  ...            1          Gd   \n",
       "...        ...          ...          ...  ...          ...         ...   \n",
       "1455       Gtl            6            5  ...            1          TA   \n",
       "1456       Gtl            6            6  ...            1          TA   \n",
       "1457       Gtl            7            9  ...            1          Gd   \n",
       "1458       Gtl            5            6  ...            1          Gd   \n",
       "1459       Gtl            5            6  ...            1          TA   \n",
       "\n",
       "     TotRmsAbvGrd Fireplaces  FireplaceQu  GarageCars  GarageArea GarageQual  \\\n",
       "0               8          0          NaN           2         548         TA   \n",
       "1               6          1           TA           2         460         TA   \n",
       "2               6          1           TA           2         608         TA   \n",
       "3               7          1           Gd           3         642         TA   \n",
       "4               9          1           TA           3         836         TA   \n",
       "...           ...        ...          ...         ...         ...        ...   \n",
       "1455            7          1           TA           2         460         TA   \n",
       "1456            7          2           TA           2         500         TA   \n",
       "1457            9          2           Gd           1         252         TA   \n",
       "1458            5          0          NaN           1         240         TA   \n",
       "1459            6          0          NaN           1         276         TA   \n",
       "\n",
       "     WoodDeckSF PoolArea  \n",
       "0             0        0  \n",
       "1           298        0  \n",
       "2             0        0  \n",
       "3             0        0  \n",
       "4           192        0  \n",
       "...         ...      ...  \n",
       "1455          0        0  \n",
       "1456        349        0  \n",
       "1457          0        0  \n",
       "1458        366        0  \n",
       "1459        736        0  \n",
       "\n",
       "[1460 rows x 37 columns]"
      ]
     },
     "execution_count": 4,
     "metadata": {},
     "output_type": "execute_result"
    }
   ],
   "source": [
    "treino"
   ]
  },
  {
   "cell_type": "code",
   "execution_count": 5,
   "metadata": {},
   "outputs": [
    {
     "name": "stdout",
     "output_type": "stream",
     "text": [
      "<class 'pandas.core.frame.DataFrame'>\n",
      "RangeIndex: 1460 entries, 0 to 1459\n",
      "Data columns (total 37 columns):\n",
      " #   Column        Non-Null Count  Dtype  \n",
      "---  ------        --------------  -----  \n",
      " 0   SalePrice     1460 non-null   int64  \n",
      " 1   MSZoning      1460 non-null   object \n",
      " 2   LotFrontage   1201 non-null   float64\n",
      " 3   LotArea       1460 non-null   int64  \n",
      " 4   Street        1460 non-null   object \n",
      " 5   LandContour   1460 non-null   object \n",
      " 6   LotConfig     1460 non-null   object \n",
      " 7   LandSlope     1460 non-null   object \n",
      " 8   OverallQual   1460 non-null   int64  \n",
      " 9   OverallCond   1460 non-null   int64  \n",
      " 10  ExterQual     1460 non-null   object \n",
      " 11  ExterCond     1460 non-null   object \n",
      " 12  BsmtQual      1423 non-null   object \n",
      " 13  BsmtCond      1423 non-null   object \n",
      " 14  BsmtUnfSF     1460 non-null   int64  \n",
      " 15  TotalBsmtSF   1460 non-null   int64  \n",
      " 16  3SsnPorch     1460 non-null   int64  \n",
      " 17  Heating       1460 non-null   object \n",
      " 18  HeatingQC     1460 non-null   object \n",
      " 19  CentralAir    1460 non-null   object \n",
      " 20  1stFlrSF      1460 non-null   int64  \n",
      " 21  2ndFlrSF      1460 non-null   int64  \n",
      " 22  GrLivArea     1460 non-null   int64  \n",
      " 23  BsmtFullBath  1460 non-null   int64  \n",
      " 24  BsmtHalfBath  1460 non-null   int64  \n",
      " 25  FullBath      1460 non-null   int64  \n",
      " 26  HalfBath      1460 non-null   int64  \n",
      " 27  KitchenAbvGr  1460 non-null   int64  \n",
      " 28  KitchenQual   1460 non-null   object \n",
      " 29  TotRmsAbvGrd  1460 non-null   int64  \n",
      " 30  Fireplaces    1460 non-null   int64  \n",
      " 31  FireplaceQu   770 non-null    object \n",
      " 32  GarageCars    1460 non-null   int64  \n",
      " 33  GarageArea    1460 non-null   int64  \n",
      " 34  GarageQual    1379 non-null   object \n",
      " 35  WoodDeckSF    1460 non-null   int64  \n",
      " 36  PoolArea      1460 non-null   int64  \n",
      "dtypes: float64(1), int64(21), object(15)\n",
      "memory usage: 422.2+ KB\n"
     ]
    },
    {
     "data": {
      "text/plain": [
       "None"
      ]
     },
     "metadata": {},
     "output_type": "display_data"
    }
   ],
   "source": [
    "display(treino.info())"
   ]
  },
  {
   "cell_type": "markdown",
   "metadata": {},
   "source": [
    "# Removendo Outliers"
   ]
  },
  {
   "cell_type": "code",
   "execution_count": 6,
   "metadata": {},
   "outputs": [],
   "source": [
    "treino = treino.drop(treino['LotArea'][ treino['LotArea'] > 57000 ].index)\n",
    "treino = treino.drop(treino['LotFrontage'][ treino['LotFrontage'] > 200 ].index)\n",
    "teste = teste.drop(teste['LotFrontage'][ teste['LotFrontage'] > 200 ].index)\n",
    "treino = treino.drop(treino['TotalBsmtSF'][ treino['TotalBsmtSF'] > 6000 ].index)\n",
    "treino = treino.drop(treino['3SsnPorch'][ treino['3SsnPorch'] > 360 ].index)\n",
    "#treino = treino.drop(treino['MasVnrArea'][ treino['MasVnrArea'] > 1300 ].index)\n",
    "treino = treino.drop(treino['GrLivArea'][ treino['GrLivArea'] > 5100 ].index)\n",
    "treino = treino.drop(treino['2ndFlrSF'][ treino['2ndFlrSF'] > 1870 ].index)\n",
    "treino = treino.drop(treino['BsmtUnfSF'][ treino['BsmtUnfSF'] > 2140 ].index)\n",
    "#treino = treino.drop(treino['BsmtFinSF1'][ treino['BsmtFinSF1'] > 5000 ].index)\n",
    "#treino = treino.drop(treino['MasVnrArea'][ treino['MasVnrArea'] > 1300 ].index)"
   ]
  },
  {
   "cell_type": "code",
   "execution_count": null,
   "metadata": {},
   "outputs": [],
   "source": []
  },
  {
   "cell_type": "markdown",
   "metadata": {},
   "source": [
    " # Tratando Dados Fireplace"
   ]
  },
  {
   "cell_type": "code",
   "execution_count": 7,
   "metadata": {},
   "outputs": [
    {
     "data": {
      "text/plain": [
       "0    47.6%\n",
       "1    44.7%\n",
       "2     7.4%\n",
       "3     0.3%\n",
       "Name: Fireplaces, dtype: object"
      ]
     },
     "metadata": {},
     "output_type": "display_data"
    }
   ],
   "source": [
    "# Analisando porcentagem de lareiras\n",
    "display(treino['Fireplaces'].value_counts(normalize=True).map(\"{:.1%}\".format))"
   ]
  },
  {
   "cell_type": "code",
   "execution_count": 8,
   "metadata": {},
   "outputs": [
    {
     "data": {
      "text/plain": [
       "Gd    49.4%\n",
       "TA    40.7%\n",
       "Fa     4.4%\n",
       "Ex     2.9%\n",
       "Po     2.6%\n",
       "Name: FireplaceQu, dtype: object"
      ]
     },
     "metadata": {},
     "output_type": "display_data"
    }
   ],
   "source": [
    "# Analisando porcentagem da qualidade das lareiras\n",
    "display(treino['FireplaceQu'].value_counts(normalize=True).map(\"{:.1%}\".format))"
   ]
  },
  {
   "cell_type": "code",
   "execution_count": 9,
   "metadata": {},
   "outputs": [
    {
     "data": {
      "text/html": [
       "<div>\n",
       "<style scoped>\n",
       "    .dataframe tbody tr th:only-of-type {\n",
       "        vertical-align: middle;\n",
       "    }\n",
       "\n",
       "    .dataframe tbody tr th {\n",
       "        vertical-align: top;\n",
       "    }\n",
       "\n",
       "    .dataframe thead th {\n",
       "        text-align: right;\n",
       "    }\n",
       "</style>\n",
       "<table border=\"1\" class=\"dataframe\">\n",
       "  <thead>\n",
       "    <tr style=\"text-align: right;\">\n",
       "      <th></th>\n",
       "      <th>Fireplaces</th>\n",
       "      <th>FireplaceQu</th>\n",
       "    </tr>\n",
       "  </thead>\n",
       "  <tbody>\n",
       "    <tr>\n",
       "      <th>0</th>\n",
       "      <td>0</td>\n",
       "      <td>NaN</td>\n",
       "    </tr>\n",
       "    <tr>\n",
       "      <th>1</th>\n",
       "      <td>1</td>\n",
       "      <td>TA</td>\n",
       "    </tr>\n",
       "    <tr>\n",
       "      <th>2</th>\n",
       "      <td>1</td>\n",
       "      <td>TA</td>\n",
       "    </tr>\n",
       "    <tr>\n",
       "      <th>3</th>\n",
       "      <td>1</td>\n",
       "      <td>Gd</td>\n",
       "    </tr>\n",
       "    <tr>\n",
       "      <th>4</th>\n",
       "      <td>1</td>\n",
       "      <td>TA</td>\n",
       "    </tr>\n",
       "    <tr>\n",
       "      <th>...</th>\n",
       "      <td>...</td>\n",
       "      <td>...</td>\n",
       "    </tr>\n",
       "    <tr>\n",
       "      <th>1455</th>\n",
       "      <td>1</td>\n",
       "      <td>TA</td>\n",
       "    </tr>\n",
       "    <tr>\n",
       "      <th>1456</th>\n",
       "      <td>2</td>\n",
       "      <td>TA</td>\n",
       "    </tr>\n",
       "    <tr>\n",
       "      <th>1457</th>\n",
       "      <td>2</td>\n",
       "      <td>Gd</td>\n",
       "    </tr>\n",
       "    <tr>\n",
       "      <th>1458</th>\n",
       "      <td>0</td>\n",
       "      <td>NaN</td>\n",
       "    </tr>\n",
       "    <tr>\n",
       "      <th>1459</th>\n",
       "      <td>0</td>\n",
       "      <td>NaN</td>\n",
       "    </tr>\n",
       "  </tbody>\n",
       "</table>\n",
       "<p>1446 rows × 2 columns</p>\n",
       "</div>"
      ],
      "text/plain": [
       "      Fireplaces FireplaceQu\n",
       "0              0         NaN\n",
       "1              1          TA\n",
       "2              1          TA\n",
       "3              1          Gd\n",
       "4              1          TA\n",
       "...          ...         ...\n",
       "1455           1          TA\n",
       "1456           2          TA\n",
       "1457           2          Gd\n",
       "1458           0         NaN\n",
       "1459           0         NaN\n",
       "\n",
       "[1446 rows x 2 columns]"
      ]
     },
     "execution_count": 9,
     "metadata": {},
     "output_type": "execute_result"
    }
   ],
   "source": [
    "# Comparando as duas colunas para tratar dados nulos\n",
    "treino.loc[:, ('Fireplaces', 'FireplaceQu')]"
   ]
  },
  {
   "cell_type": "code",
   "execution_count": 10,
   "metadata": {},
   "outputs": [],
   "source": [
    "# preenche os dados NaN da coluna FireplaceQu\n",
    "#treino.update(treino['FireplaceQu'].fillna('ND'))----- não deu certo\n",
    "#treino['FireplaceQu']=treino['FireplaceQu'].fillna('ND')-----não deu certo\n",
    "treino['FireplaceQu']=treino['FireplaceQu'].fillna('NA')"
   ]
  },
  {
   "cell_type": "code",
   "execution_count": 11,
   "metadata": {},
   "outputs": [
    {
     "name": "stdout",
     "output_type": "stream",
     "text": [
      "<class 'pandas.core.frame.DataFrame'>\n",
      "Int64Index: 1446 entries, 0 to 1459\n",
      "Data columns (total 37 columns):\n",
      " #   Column        Non-Null Count  Dtype  \n",
      "---  ------        --------------  -----  \n",
      " 0   SalePrice     1446 non-null   int64  \n",
      " 1   MSZoning      1446 non-null   object \n",
      " 2   LotFrontage   1191 non-null   float64\n",
      " 3   LotArea       1446 non-null   int64  \n",
      " 4   Street        1446 non-null   object \n",
      " 5   LandContour   1446 non-null   object \n",
      " 6   LotConfig     1446 non-null   object \n",
      " 7   LandSlope     1446 non-null   object \n",
      " 8   OverallQual   1446 non-null   int64  \n",
      " 9   OverallCond   1446 non-null   int64  \n",
      " 10  ExterQual     1446 non-null   object \n",
      " 11  ExterCond     1446 non-null   object \n",
      " 12  BsmtQual      1409 non-null   object \n",
      " 13  BsmtCond      1409 non-null   object \n",
      " 14  BsmtUnfSF     1446 non-null   int64  \n",
      " 15  TotalBsmtSF   1446 non-null   int64  \n",
      " 16  3SsnPorch     1446 non-null   int64  \n",
      " 17  Heating       1446 non-null   object \n",
      " 18  HeatingQC     1446 non-null   object \n",
      " 19  CentralAir    1446 non-null   object \n",
      " 20  1stFlrSF      1446 non-null   int64  \n",
      " 21  2ndFlrSF      1446 non-null   int64  \n",
      " 22  GrLivArea     1446 non-null   int64  \n",
      " 23  BsmtFullBath  1446 non-null   int64  \n",
      " 24  BsmtHalfBath  1446 non-null   int64  \n",
      " 25  FullBath      1446 non-null   int64  \n",
      " 26  HalfBath      1446 non-null   int64  \n",
      " 27  KitchenAbvGr  1446 non-null   int64  \n",
      " 28  KitchenQual   1446 non-null   object \n",
      " 29  TotRmsAbvGrd  1446 non-null   int64  \n",
      " 30  Fireplaces    1446 non-null   int64  \n",
      " 31  FireplaceQu   1446 non-null   object \n",
      " 32  GarageCars    1446 non-null   int64  \n",
      " 33  GarageArea    1446 non-null   int64  \n",
      " 34  GarageQual    1365 non-null   object \n",
      " 35  WoodDeckSF    1446 non-null   int64  \n",
      " 36  PoolArea      1446 non-null   int64  \n",
      "dtypes: float64(1), int64(21), object(15)\n",
      "memory usage: 429.3+ KB\n"
     ]
    },
    {
     "data": {
      "text/plain": [
       "None"
      ]
     },
     "metadata": {},
     "output_type": "display_data"
    }
   ],
   "source": [
    "display(treino.info())"
   ]
  },
  {
   "cell_type": "markdown",
   "metadata": {},
   "source": [
    "# Tratando Dados Porão"
   ]
  },
  {
   "cell_type": "code",
   "execution_count": 12,
   "metadata": {},
   "outputs": [
    {
     "data": {
      "text/plain": [
       "TA    45.8%\n",
       "Gd    43.4%\n",
       "Ex     8.3%\n",
       "Fa     2.5%\n",
       "Name: BsmtQual, dtype: object"
      ]
     },
     "metadata": {},
     "output_type": "display_data"
    }
   ],
   "source": [
    "# Analisando porcentagem de altura Porão\n",
    "display(treino['BsmtQual'].value_counts(normalize=True).map(\"{:.1%}\".format))"
   ]
  },
  {
   "cell_type": "code",
   "execution_count": 13,
   "metadata": {},
   "outputs": [],
   "source": [
    "# Atribuindo valor aos dados NaN da altura Porão\n",
    "treino['BsmtQual']=treino['BsmtQual'].fillna('NA')"
   ]
  },
  {
   "cell_type": "code",
   "execution_count": 14,
   "metadata": {},
   "outputs": [
    {
     "data": {
      "text/plain": [
       "TA    92.1%\n",
       "Gd     4.6%\n",
       "Fa     3.2%\n",
       "Po     0.1%\n",
       "Name: BsmtCond, dtype: object"
      ]
     },
     "metadata": {},
     "output_type": "display_data"
    }
   ],
   "source": [
    "# Analisando porcentagem de condição geral do Porão\n",
    "display(treino['BsmtCond'].value_counts(normalize=True).map(\"{:.1%}\".format))"
   ]
  },
  {
   "cell_type": "code",
   "execution_count": 15,
   "metadata": {},
   "outputs": [],
   "source": [
    "# Atribuindo valor aos dados NaN da condição geral do Porão\n",
    "treino['BsmtCond']=treino['BsmtCond'].fillna('NA')"
   ]
  },
  {
   "cell_type": "markdown",
   "metadata": {},
   "source": [
    "# Tratando Dados Garagem"
   ]
  },
  {
   "cell_type": "code",
   "execution_count": 16,
   "metadata": {},
   "outputs": [
    {
     "data": {
      "text/plain": [
       "TA    95.0%\n",
       "Fa     3.5%\n",
       "Gd     1.0%\n",
       "Ex     0.2%\n",
       "Po     0.2%\n",
       "Name: GarageQual, dtype: object"
      ]
     },
     "metadata": {},
     "output_type": "display_data"
    }
   ],
   "source": [
    "# Analisando porcentagem de Qualidade da Garagem\n",
    "display(treino['GarageQual'].value_counts(normalize=True).map(\"{:.1%}\".format))"
   ]
  },
  {
   "cell_type": "code",
   "execution_count": 17,
   "metadata": {},
   "outputs": [],
   "source": [
    "# Atribuindo valor aos dados NaN da Qualidade da Garagem\n",
    "treino['GarageQual']=treino['GarageQual'].fillna('NA')"
   ]
  },
  {
   "cell_type": "code",
   "execution_count": 18,
   "metadata": {},
   "outputs": [
    {
     "name": "stdout",
     "output_type": "stream",
     "text": [
      "<class 'pandas.core.frame.DataFrame'>\n",
      "Int64Index: 1446 entries, 0 to 1459\n",
      "Data columns (total 37 columns):\n",
      " #   Column        Non-Null Count  Dtype  \n",
      "---  ------        --------------  -----  \n",
      " 0   SalePrice     1446 non-null   int64  \n",
      " 1   MSZoning      1446 non-null   object \n",
      " 2   LotFrontage   1191 non-null   float64\n",
      " 3   LotArea       1446 non-null   int64  \n",
      " 4   Street        1446 non-null   object \n",
      " 5   LandContour   1446 non-null   object \n",
      " 6   LotConfig     1446 non-null   object \n",
      " 7   LandSlope     1446 non-null   object \n",
      " 8   OverallQual   1446 non-null   int64  \n",
      " 9   OverallCond   1446 non-null   int64  \n",
      " 10  ExterQual     1446 non-null   object \n",
      " 11  ExterCond     1446 non-null   object \n",
      " 12  BsmtQual      1446 non-null   object \n",
      " 13  BsmtCond      1446 non-null   object \n",
      " 14  BsmtUnfSF     1446 non-null   int64  \n",
      " 15  TotalBsmtSF   1446 non-null   int64  \n",
      " 16  3SsnPorch     1446 non-null   int64  \n",
      " 17  Heating       1446 non-null   object \n",
      " 18  HeatingQC     1446 non-null   object \n",
      " 19  CentralAir    1446 non-null   object \n",
      " 20  1stFlrSF      1446 non-null   int64  \n",
      " 21  2ndFlrSF      1446 non-null   int64  \n",
      " 22  GrLivArea     1446 non-null   int64  \n",
      " 23  BsmtFullBath  1446 non-null   int64  \n",
      " 24  BsmtHalfBath  1446 non-null   int64  \n",
      " 25  FullBath      1446 non-null   int64  \n",
      " 26  HalfBath      1446 non-null   int64  \n",
      " 27  KitchenAbvGr  1446 non-null   int64  \n",
      " 28  KitchenQual   1446 non-null   object \n",
      " 29  TotRmsAbvGrd  1446 non-null   int64  \n",
      " 30  Fireplaces    1446 non-null   int64  \n",
      " 31  FireplaceQu   1446 non-null   object \n",
      " 32  GarageCars    1446 non-null   int64  \n",
      " 33  GarageArea    1446 non-null   int64  \n",
      " 34  GarageQual    1446 non-null   object \n",
      " 35  WoodDeckSF    1446 non-null   int64  \n",
      " 36  PoolArea      1446 non-null   int64  \n",
      "dtypes: float64(1), int64(21), object(15)\n",
      "memory usage: 429.3+ KB\n"
     ]
    },
    {
     "data": {
      "text/plain": [
       "None"
      ]
     },
     "metadata": {},
     "output_type": "display_data"
    }
   ],
   "source": [
    "display(treino.info())"
   ]
  },
  {
   "cell_type": "markdown",
   "metadata": {},
   "source": [
    "#  Dados faltantes do Porão\n",
    " Como podemos verificar há 2,8% dados zerados na 'área do porão', então podemos deduzir que onde os valores de área estão zerados, estas residências não possuem porão"
   ]
  },
  {
   "cell_type": "code",
   "execution_count": 19,
   "metadata": {},
   "outputs": [
    {
     "data": {
      "text/plain": [
       "0.0       2.8%\n",
       "864.0     2.7%\n",
       "960.0     0.9%\n",
       "546.0     0.8%\n",
       "672.0     0.8%\n",
       "          ... \n",
       "918.0     0.1%\n",
       "1910.0    0.1%\n",
       "1700.0    0.1%\n",
       "750.0     0.1%\n",
       "1075.0    0.1%\n",
       "Name: TotalBsmtSF, Length: 736, dtype: object"
      ]
     },
     "metadata": {},
     "output_type": "display_data"
    }
   ],
   "source": [
    "# Analisando porcentagem de Total de Área do Porão\n",
    "display(teste['TotalBsmtSF'].value_counts(normalize=True).map(\"{:.1%}\".format))"
   ]
  },
  {
   "cell_type": "code",
   "execution_count": 20,
   "metadata": {},
   "outputs": [],
   "source": [
    "# Atribuindo valor aos dados NaN do Porão, pois conforme analisado, refere-se as casas sem porão \n",
    "teste['TotalBsmtSF']=teste['TotalBsmtSF'].fillna(0)\n",
    "teste['BsmtQual']=teste['BsmtQual'].fillna('NA')\n",
    "teste['BsmtCond']=teste['BsmtCond'].fillna('NA')\n",
    "teste['BsmtFullBath']=teste['BsmtFullBath'].fillna(0)\n",
    "teste['BsmtHalfBath']=teste['BsmtHalfBath'].fillna(0)\n",
    "teste['BsmtUnfSF']=teste['BsmtUnfSF'].fillna(0)"
   ]
  },
  {
   "cell_type": "code",
   "execution_count": 21,
   "metadata": {},
   "outputs": [
    {
     "data": {
      "text/plain": [
       "0.0       2.9%\n",
       "864.0     2.7%\n",
       "960.0     0.9%\n",
       "546.0     0.8%\n",
       "672.0     0.8%\n",
       "          ... \n",
       "918.0     0.1%\n",
       "1910.0    0.1%\n",
       "1700.0    0.1%\n",
       "750.0     0.1%\n",
       "1075.0    0.1%\n",
       "Name: TotalBsmtSF, Length: 736, dtype: object"
      ]
     },
     "metadata": {},
     "output_type": "display_data"
    }
   ],
   "source": [
    "# Analisando porcentagem de Classificação Geral de Zoneamento\n",
    "display(teste['TotalBsmtSF'].value_counts(normalize=True).map(\"{:.1%}\".format))"
   ]
  },
  {
   "cell_type": "markdown",
   "metadata": {},
   "source": [
    "# Dados faltantes Cozinha\n",
    "Conforme verificado está faltando apenas um dado da variavel Qualidade da Cozinha, então será atribuído o valor da moda"
   ]
  },
  {
   "cell_type": "code",
   "execution_count": 22,
   "metadata": {},
   "outputs": [
    {
     "data": {
      "text/plain": [
       "TA    51.9%\n",
       "Gd    38.8%\n",
       "Ex     7.2%\n",
       "Fa     2.1%\n",
       "Name: KitchenQual, dtype: object"
      ]
     },
     "metadata": {},
     "output_type": "display_data"
    }
   ],
   "source": [
    "# Analisando porcentagem de Qualidade da Cozinha\n",
    "display(teste['KitchenQual'].value_counts(normalize=True).map(\"{:.1%}\".format))"
   ]
  },
  {
   "cell_type": "code",
   "execution_count": 23,
   "metadata": {},
   "outputs": [],
   "source": [
    "# Atribuindo valor aos dados NaN na Qualidade da Cozinha \n",
    "teste['KitchenQual']=teste['KitchenQual'].fillna('TA')"
   ]
  },
  {
   "cell_type": "markdown",
   "metadata": {},
   "source": [
    "# Dados Faltantes da Lareira\n",
    "Conforme verificado aproximadamente 47.3% das residências não possuem Lareira, então podemos deduzir que os dados faltantes na variável 'qualidade da lareira' referem-se as residências que não possuem lareiras"
   ]
  },
  {
   "cell_type": "code",
   "execution_count": 24,
   "metadata": {},
   "outputs": [
    {
     "data": {
      "text/plain": [
       "0    50.0%\n",
       "1    42.4%\n",
       "2     7.1%\n",
       "3     0.4%\n",
       "4     0.1%\n",
       "Name: Fireplaces, dtype: object"
      ]
     },
     "metadata": {},
     "output_type": "display_data"
    }
   ],
   "source": [
    "# Analisando porcentagem de Lareiras\n",
    "display(teste['Fireplaces'].value_counts(normalize=True).map(\"{:.1%}\".format))"
   ]
  },
  {
   "cell_type": "code",
   "execution_count": 25,
   "metadata": {},
   "outputs": [],
   "source": [
    "# Atribuindo valor aos dados NaN na Qualidade da Lareira\n",
    "teste['FireplaceQu']=teste['FireplaceQu'].fillna('NA')"
   ]
  },
  {
   "cell_type": "markdown",
   "metadata": {},
   "source": [
    "# Dados Faltantes Garagem"
   ]
  },
  {
   "cell_type": "code",
   "execution_count": 26,
   "metadata": {},
   "outputs": [],
   "source": [
    "# Atribuindo valor aos dados NaN na Garagem Capacidade e Tamanho\n",
    "teste['GarageCars']=teste['GarageCars'].fillna(0)\n",
    "teste['GarageArea']=teste['GarageArea'].fillna(0)\n",
    "teste['GarageQual']=teste['GarageQual'].fillna(0)"
   ]
  },
  {
   "cell_type": "markdown",
   "metadata": {},
   "source": [
    "# Dados Faltantes Classificação Geral de Zoneamento"
   ]
  },
  {
   "cell_type": "code",
   "execution_count": 27,
   "metadata": {},
   "outputs": [
    {
     "data": {
      "text/plain": [
       "RL         76.6%\n",
       "RM         16.6%\n",
       "FV          5.1%\n",
       "C (all)     1.0%\n",
       "RH          0.7%\n",
       "Name: MSZoning, dtype: object"
      ]
     },
     "metadata": {},
     "output_type": "display_data"
    }
   ],
   "source": [
    "# Analisando porcentagem da Classificação Geral de Zoneamento\n",
    "display(teste['MSZoning'].value_counts(normalize=True).map(\"{:.1%}\".format))"
   ]
  },
  {
   "cell_type": "code",
   "execution_count": 28,
   "metadata": {
    "scrolled": true
   },
   "outputs": [],
   "source": [
    "# Atribuindo valor aos dados NaN da Classificação Geral de Zoneamento\n",
    "#por serem poucos dados faltantes foi atribuído o valor da moda\n",
    "teste['MSZoning']=teste['MSZoning'].fillna(6)"
   ]
  },
  {
   "cell_type": "markdown",
   "metadata": {},
   "source": [
    "# Dados Faltantes LotFrontage"
   ]
  },
  {
   "cell_type": "code",
   "execution_count": 29,
   "metadata": {},
   "outputs": [
    {
     "data": {
      "text/plain": [
       "60.0     12.0%\n",
       "70.0      5.9%\n",
       "80.0      5.8%\n",
       "50.0      4.8%\n",
       "75.0      4.5%\n",
       "         ...  \n",
       "106.0     0.1%\n",
       "38.0      0.1%\n",
       "138.0     0.1%\n",
       "140.0     0.1%\n",
       "137.0     0.1%\n",
       "Name: LotFrontage, Length: 107, dtype: object"
      ]
     },
     "metadata": {},
     "output_type": "display_data"
    }
   ],
   "source": [
    "# Analisando porcentagem da LotFrontage\n",
    "display(treino['LotFrontage'].value_counts(normalize=True).map(\"{:.1%}\".format))"
   ]
  },
  {
   "cell_type": "code",
   "execution_count": 30,
   "metadata": {},
   "outputs": [],
   "source": [
    "# Atribuindo valor aos dados NaN da LotFrontage\n",
    "#por serem poucos dados faltantes foi atribuído o valor da moda\n",
    "treino['LotFrontage']=treino['LotFrontage'].fillna(60)\n",
    "\n",
    "teste['LotFrontage']=teste['LotFrontage'].fillna(60)"
   ]
  },
  {
   "cell_type": "code",
   "execution_count": 31,
   "metadata": {},
   "outputs": [
    {
     "name": "stdout",
     "output_type": "stream",
     "text": [
      "<class 'pandas.core.frame.DataFrame'>\n",
      "Int64Index: 1459 entries, 0 to 1458\n",
      "Data columns (total 36 columns):\n",
      " #   Column        Non-Null Count  Dtype  \n",
      "---  ------        --------------  -----  \n",
      " 0   MSZoning      1459 non-null   object \n",
      " 1   LotFrontage   1459 non-null   float64\n",
      " 2   LotArea       1459 non-null   int64  \n",
      " 3   Street        1459 non-null   object \n",
      " 4   LandContour   1459 non-null   object \n",
      " 5   LotConfig     1459 non-null   object \n",
      " 6   LandSlope     1459 non-null   object \n",
      " 7   OverallQual   1459 non-null   int64  \n",
      " 8   OverallCond   1459 non-null   int64  \n",
      " 9   ExterQual     1459 non-null   object \n",
      " 10  ExterCond     1459 non-null   object \n",
      " 11  BsmtQual      1459 non-null   object \n",
      " 12  BsmtCond      1459 non-null   object \n",
      " 13  BsmtUnfSF     1459 non-null   float64\n",
      " 14  TotalBsmtSF   1459 non-null   float64\n",
      " 15  3SsnPorch     1459 non-null   int64  \n",
      " 16  Heating       1459 non-null   object \n",
      " 17  HeatingQC     1459 non-null   object \n",
      " 18  CentralAir    1459 non-null   object \n",
      " 19  1stFlrSF      1459 non-null   int64  \n",
      " 20  2ndFlrSF      1459 non-null   int64  \n",
      " 21  GrLivArea     1459 non-null   int64  \n",
      " 22  BsmtFullBath  1459 non-null   float64\n",
      " 23  BsmtHalfBath  1459 non-null   float64\n",
      " 24  FullBath      1459 non-null   int64  \n",
      " 25  HalfBath      1459 non-null   int64  \n",
      " 26  KitchenAbvGr  1459 non-null   int64  \n",
      " 27  KitchenQual   1459 non-null   object \n",
      " 28  TotRmsAbvGrd  1459 non-null   int64  \n",
      " 29  Fireplaces    1459 non-null   int64  \n",
      " 30  FireplaceQu   1459 non-null   object \n",
      " 31  GarageCars    1459 non-null   float64\n",
      " 32  GarageArea    1459 non-null   float64\n",
      " 33  GarageQual    1459 non-null   object \n",
      " 34  WoodDeckSF    1459 non-null   int64  \n",
      " 35  PoolArea      1459 non-null   int64  \n",
      "dtypes: float64(7), int64(14), object(15)\n",
      "memory usage: 421.7+ KB\n"
     ]
    },
    {
     "data": {
      "text/plain": [
       "None"
      ]
     },
     "metadata": {},
     "output_type": "display_data"
    }
   ],
   "source": [
    "display(teste.info())"
   ]
  },
  {
   "cell_type": "markdown",
   "metadata": {},
   "source": [
    "# Transformando Dados Str em Int"
   ]
  },
  {
   "cell_type": "code",
   "execution_count": 32,
   "metadata": {},
   "outputs": [],
   "source": [
    "# mudar os dados da coluna MSZoning para números\n",
    "treino.loc[treino['MSZoning'] == 'A', 'MSZoning'] = 1\n",
    "treino.loc[treino['MSZoning'] == 'C (all)', 'MSZoning'] = 2\n",
    "treino.loc[treino['MSZoning'] == 'FV','MSZoning'] = 3\n",
    "treino.loc[treino['MSZoning'] == 'I', 'MSZoning'] = 4\n",
    "treino.loc[treino['MSZoning'] == 'RH', 'MSZoning'] = 5\n",
    "treino.loc[treino['MSZoning'] == 'RL', 'MSZoning'] = 6\n",
    "treino.loc[treino['MSZoning'] == 'RP', 'MSZoning'] = 7\n",
    "treino.loc[treino['MSZoning'] == 'RM', 'MSZoning'] = 8\n",
    "\n",
    "teste.loc[teste['MSZoning'] == 'A', 'MSZoning'] = 1\n",
    "teste.loc[teste['MSZoning'] == 'C (all)', 'MSZoning'] = 2\n",
    "teste.loc[teste['MSZoning'] == 'FV','MSZoning'] = 3\n",
    "teste.loc[teste['MSZoning'] == 'I', 'MSZoning'] = 4\n",
    "teste.loc[teste['MSZoning'] == 'RH', 'MSZoning'] = 5\n",
    "teste.loc[teste['MSZoning'] == 'RL', 'MSZoning'] = 6\n",
    "teste.loc[teste['MSZoning'] == 'RP', 'MSZoning'] = 7\n",
    "teste.loc[teste['MSZoning'] == 'RM', 'MSZoning'] = 8\n"
   ]
  },
  {
   "cell_type": "code",
   "execution_count": 33,
   "metadata": {},
   "outputs": [],
   "source": [
    "#transforma coluna MSZoning em inteiro\n",
    "treino['MSZoning'] = treino['MSZoning'].astype(np.int64, copy=False)\n",
    "\n",
    "teste['MSZoning'] = teste['MSZoning'].astype(np.int64, copy=False)"
   ]
  },
  {
   "cell_type": "code",
   "execution_count": 34,
   "metadata": {},
   "outputs": [],
   "source": [
    "# mudar os dados da coluna Street para números\n",
    "treino.loc[treino['Street'] == 'Grvl', 'Street'] = 1\n",
    "treino.loc[treino['Street'] == 'Pave', 'Street'] = 2\n",
    "\n",
    "teste.loc[teste['Street'] == 'Grvl', 'Street'] = 1\n",
    "teste.loc[teste['Street'] == 'Pave', 'Street'] = 2"
   ]
  },
  {
   "cell_type": "code",
   "execution_count": 35,
   "metadata": {},
   "outputs": [],
   "source": [
    "#transforma coluna Street em inteiro\n",
    "treino['Street'] = treino['Street'].astype(np.int64, copy=False)\n",
    "\n",
    "teste['Street'] = teste['Street'].astype(np.int64, copy=False)"
   ]
  },
  {
   "cell_type": "code",
   "execution_count": 36,
   "metadata": {},
   "outputs": [],
   "source": [
    "# mudar os dados da coluna LandContour para números\n",
    "treino.loc[treino['LandContour'] == 'Lvl', 'LandContour'] = 1\n",
    "treino.loc[treino['LandContour'] == 'Bnk', 'LandContour'] = 2\n",
    "treino.loc[treino['LandContour'] == 'HLS', 'LandContour'] = 3\n",
    "treino.loc[treino['LandContour'] == 'Low', 'LandContour'] = 4\n",
    "\n",
    "teste.loc[teste['LandContour'] == 'Lvl', 'LandContour'] = 1\n",
    "teste.loc[teste['LandContour'] == 'Bnk', 'LandContour'] = 2\n",
    "teste.loc[teste['LandContour'] == 'HLS', 'LandContour'] = 3\n",
    "teste.loc[teste['LandContour'] == 'Low', 'LandContour'] = 4"
   ]
  },
  {
   "cell_type": "code",
   "execution_count": 37,
   "metadata": {},
   "outputs": [],
   "source": [
    "#transforma coluna LandContour em inteiro\n",
    "treino['LandContour'] = treino['LandContour'].astype(np.int64, copy=False)\n",
    "\n",
    "teste['LandContour'] = teste['LandContour'].astype(np.int64, copy=False)"
   ]
  },
  {
   "cell_type": "code",
   "execution_count": 38,
   "metadata": {},
   "outputs": [
    {
     "data": {
      "text/plain": [
       "1    90.2%\n",
       "2     4.2%\n",
       "3     3.3%\n",
       "4     2.2%\n",
       "Name: LandContour, dtype: object"
      ]
     },
     "metadata": {},
     "output_type": "display_data"
    }
   ],
   "source": [
    "# Analisando porcentagem de Qualidade da Garagem\n",
    "display(treino['LandContour'].value_counts(normalize=True).map(\"{:.1%}\".format))"
   ]
  },
  {
   "cell_type": "code",
   "execution_count": 39,
   "metadata": {},
   "outputs": [],
   "source": [
    "# mudar os dados da coluna Configuração de Lote para números\n",
    "treino.loc[treino['LotConfig'] == 'Inside', 'LotConfig'] = 1\n",
    "treino.loc[treino['LotConfig'] == 'Corner', 'LotConfig'] = 2\n",
    "treino.loc[treino['LotConfig'] == 'CulDSac', 'LotConfig'] = 3\n",
    "treino.loc[treino['LotConfig'] == 'FR2', 'LotConfig'] = 4\n",
    "treino.loc[treino['LotConfig'] == 'FR3', 'LotConfig'] = 5\n",
    "\n",
    "teste.loc[teste['LotConfig'] == 'Inside', 'LotConfig'] = 1\n",
    "teste.loc[teste['LotConfig'] == 'Corner', 'LotConfig'] = 2\n",
    "teste.loc[teste['LotConfig'] == 'CulDSac', 'LotConfig'] = 3\n",
    "teste.loc[teste['LotConfig'] == 'FR2', 'LotConfig'] = 4\n",
    "teste.loc[teste['LotConfig'] == 'FR3', 'LotConfig'] = 5"
   ]
  },
  {
   "cell_type": "code",
   "execution_count": 40,
   "metadata": {},
   "outputs": [],
   "source": [
    "#transforma coluna Configuração de Lote em inteiro\n",
    "treino['LotConfig'] = treino['LotConfig'].astype(np.int64, copy=False)\n",
    "\n",
    "teste['LotConfig'] = teste['LotConfig'].astype(np.int64, copy=False)"
   ]
  },
  {
   "cell_type": "code",
   "execution_count": 41,
   "metadata": {},
   "outputs": [],
   "source": [
    "# mudar os dados da coluna Inclinação da propriedade para números\n",
    "treino.loc[treino['LandSlope'] == 'Gtl', 'LandSlope'] = 1\n",
    "treino.loc[treino['LandSlope'] == 'Mod', 'LandSlope'] = 2\n",
    "treino.loc[treino['LandSlope'] == 'Sev', 'LandSlope'] = 3\n",
    "\n",
    "teste.loc[teste['LandSlope'] == 'Gtl', 'LandSlope'] = 1\n",
    "teste.loc[teste['LandSlope'] == 'Mod', 'LandSlope'] = 2\n",
    "teste.loc[teste['LandSlope'] == 'Sev', 'LandSlope'] = 3"
   ]
  },
  {
   "cell_type": "code",
   "execution_count": 42,
   "metadata": {},
   "outputs": [],
   "source": [
    "#transforma coluna Inclinação da propriedade em inteiro\n",
    "treino['LandSlope'] = treino['LandSlope'].astype(np.int64, copy=False)\n",
    "\n",
    "teste['LandSlope'] = teste['LandSlope'].astype(np.int64, copy=False)"
   ]
  },
  {
   "cell_type": "code",
   "execution_count": 43,
   "metadata": {},
   "outputs": [],
   "source": [
    "# mudar os dados da coluna Qualidade do Material para números\n",
    "treino.loc[treino['ExterQual'] == 'Ex', 'ExterQual'] = 1\n",
    "treino.loc[treino['ExterQual'] == 'Gd', 'ExterQual'] = 2\n",
    "treino.loc[treino['ExterQual'] == 'TA', 'ExterQual'] = 3\n",
    "treino.loc[treino['ExterQual'] == 'Fa', 'ExterQual'] = 4\n",
    "treino.loc[treino['ExterQual'] == 'Po', 'ExterQual'] = 5\n",
    "\n",
    "teste.loc[teste['ExterQual'] == 'Ex', 'ExterQual'] = 1\n",
    "teste.loc[teste['ExterQual'] == 'Gd', 'ExterQual'] = 2\n",
    "teste.loc[teste['ExterQual'] == 'TA', 'ExterQual'] = 3\n",
    "teste.loc[teste['ExterQual'] == 'Fa', 'ExterQual'] = 4\n",
    "teste.loc[teste['ExterQual'] == 'Po', 'ExterQual'] = 5"
   ]
  },
  {
   "cell_type": "code",
   "execution_count": 44,
   "metadata": {},
   "outputs": [],
   "source": [
    "#transforma coluna Qualidade do Material Exterior em inteiro\n",
    "treino['ExterQual'] = treino['ExterQual'].astype(np.int64, copy=False)\n",
    "\n",
    "teste['ExterQual'] = teste['ExterQual'].astype(np.int64, copy=False)"
   ]
  },
  {
   "cell_type": "code",
   "execution_count": 45,
   "metadata": {},
   "outputs": [],
   "source": [
    "# mudar os dados da coluna Condição do Material para números\n",
    "treino.loc[treino['ExterCond'] == 'Ex', 'ExterCond'] = 1\n",
    "treino.loc[treino['ExterCond'] == 'Gd', 'ExterCond'] = 2\n",
    "treino.loc[treino['ExterCond'] == 'TA', 'ExterCond'] = 3\n",
    "treino.loc[treino['ExterCond'] == 'Fa', 'ExterCond'] = 4\n",
    "treino.loc[treino['ExterCond'] == 'Po', 'ExterCond'] = 5\n",
    "\n",
    "teste.loc[teste['ExterCond'] == 'Ex', 'ExterCond'] = 1\n",
    "teste.loc[teste['ExterCond'] == 'Gd', 'ExterCond'] = 2\n",
    "teste.loc[teste['ExterCond'] == 'TA', 'ExterCond'] = 3\n",
    "teste.loc[teste['ExterCond'] == 'Fa', 'ExterCond'] = 4\n",
    "teste.loc[teste['ExterCond'] == 'Po', 'ExterCond'] = 5"
   ]
  },
  {
   "cell_type": "code",
   "execution_count": 46,
   "metadata": {},
   "outputs": [],
   "source": [
    "#transforma coluna Condição do Material Exterior em inteiro\n",
    "treino['ExterCond'] = treino['ExterCond'].astype(np.int64, copy=False)\n",
    "\n",
    "teste['ExterCond'] = teste['ExterCond'].astype(np.int64, copy=False)"
   ]
  },
  {
   "cell_type": "code",
   "execution_count": 47,
   "metadata": {},
   "outputs": [],
   "source": [
    "# mudar os dados da coluna Altura do Porão para números\n",
    "treino.loc[treino['BsmtQual'] == 'Ex', 'BsmtQual'] = 1\n",
    "treino.loc[treino['BsmtQual'] == 'Gd', 'BsmtQual'] = 2\n",
    "treino.loc[treino['BsmtQual'] == 'TA', 'BsmtQual'] = 3\n",
    "treino.loc[treino['BsmtQual'] == 'Fa', 'BsmtQual'] = 4\n",
    "treino.loc[treino['BsmtQual'] == 'Po', 'BsmtQual'] = 5\n",
    "treino.loc[treino['BsmtQual'] == 'NA', 'BsmtQual'] = 0\n",
    "\n",
    "teste.loc[teste['BsmtQual'] == 'Ex', 'BsmtQual'] = 1\n",
    "teste.loc[teste['BsmtQual'] == 'Gd', 'BsmtQual'] = 2\n",
    "teste.loc[teste['BsmtQual'] == 'TA', 'BsmtQual'] = 3\n",
    "teste.loc[teste['BsmtQual'] == 'Fa', 'BsmtQual'] = 4\n",
    "teste.loc[teste['BsmtQual'] == 'Po', 'BsmtQual'] = 5\n",
    "teste.loc[teste['BsmtQual'] == 'NA', 'BsmtQual'] = 0"
   ]
  },
  {
   "cell_type": "code",
   "execution_count": 48,
   "metadata": {},
   "outputs": [],
   "source": [
    "#transforma coluna Altura do Porão em inteiro\n",
    "treino['BsmtQual'] = treino['BsmtQual'].astype(np.int64, copy=False)\n",
    "\n",
    "teste['BsmtQual'] = teste['BsmtQual'].astype(np.int64, copy=False)"
   ]
  },
  {
   "cell_type": "code",
   "execution_count": 49,
   "metadata": {},
   "outputs": [],
   "source": [
    "# mudar os dados da coluna Condição Geral do Porão para números\n",
    "treino.loc[treino['BsmtCond'] == 'Ex', 'BsmtCond'] = 1\n",
    "treino.loc[treino['BsmtCond'] == 'Gd', 'BsmtCond'] = 2\n",
    "treino.loc[treino['BsmtCond'] == 'TA', 'BsmtCond'] = 3\n",
    "treino.loc[treino['BsmtCond'] == 'Fa', 'BsmtCond'] = 4\n",
    "treino.loc[treino['BsmtCond'] == 'Po', 'BsmtCond'] = 5\n",
    "treino.loc[treino['BsmtCond'] == 'NA', 'BsmtCond'] = 0\n",
    "\n",
    "teste.loc[teste['BsmtCond'] == 'Ex', 'BsmtCond'] = 1\n",
    "teste.loc[teste['BsmtCond'] == 'Gd', 'BsmtCond'] = 2\n",
    "teste.loc[teste['BsmtCond'] == 'TA', 'BsmtCond'] = 3\n",
    "teste.loc[teste['BsmtCond'] == 'Fa', 'BsmtCond'] = 4\n",
    "teste.loc[teste['BsmtCond'] == 'Po', 'BsmtCond'] = 5\n",
    "teste.loc[teste['BsmtCond'] == 'NA', 'BsmtCond'] = 0"
   ]
  },
  {
   "cell_type": "code",
   "execution_count": 50,
   "metadata": {},
   "outputs": [],
   "source": [
    "#transforma coluna Condição Geral do Porão em inteiro\n",
    "treino['BsmtCond'] = treino['BsmtCond'].astype(np.int64, copy=False)\n",
    "\n",
    "teste['BsmtCond'] = teste['BsmtCond'].astype(np.int64, copy=False)"
   ]
  },
  {
   "cell_type": "code",
   "execution_count": 51,
   "metadata": {},
   "outputs": [],
   "source": [
    "# mudar os dados da coluna Tipo de Aquecimento para números\n",
    "treino.loc[treino['Heating'] == 'Floor', 'Heating'] = 1\n",
    "treino.loc[treino['Heating'] == 'GasA', 'Heating'] = 2\n",
    "treino.loc[treino['Heating'] == 'GasW', 'Heating'] = 3\n",
    "treino.loc[treino['Heating'] == 'Grav', 'Heating'] = 4\n",
    "treino.loc[treino['Heating'] == 'OthW', 'Heating'] = 5\n",
    "treino.loc[treino['Heating'] == 'Wall', 'Heating'] = 6\n",
    "\n",
    "teste.loc[teste['Heating'] == 'Floor', 'Heating'] = 1\n",
    "teste.loc[teste['Heating'] == 'GasA', 'Heating'] = 2\n",
    "teste.loc[teste['Heating'] == 'GasW', 'Heating'] = 3\n",
    "teste.loc[teste['Heating'] == 'Grav', 'Heating'] = 4\n",
    "teste.loc[teste['Heating'] == 'OthW', 'Heating'] = 5\n",
    "teste.loc[teste['Heating'] == 'Wall', 'Heating'] = 6"
   ]
  },
  {
   "cell_type": "code",
   "execution_count": 52,
   "metadata": {},
   "outputs": [],
   "source": [
    "#transforma coluna Tipo de Aquecimento em inteiro\n",
    "treino['Heating'] = treino['Heating'].astype(np.int64, copy=False)\n",
    "\n",
    "teste['Heating'] = teste['Heating'].astype(np.int64, copy=False)"
   ]
  },
  {
   "cell_type": "code",
   "execution_count": 53,
   "metadata": {},
   "outputs": [],
   "source": [
    "# mudar os dados da coluna Qualidade e Condição do Aquecimento para números\n",
    "treino.loc[treino['HeatingQC'] == 'Ex', 'HeatingQC'] = 1\n",
    "treino.loc[treino['HeatingQC'] == 'Gd', 'HeatingQC'] = 2\n",
    "treino.loc[treino['HeatingQC'] == 'TA', 'HeatingQC'] = 3\n",
    "treino.loc[treino['HeatingQC'] == 'Fa', 'HeatingQC'] = 4\n",
    "treino.loc[treino['HeatingQC'] == 'Po', 'HeatingQC'] = 5\n",
    "\n",
    "teste.loc[teste['HeatingQC'] == 'Ex', 'HeatingQC'] = 1\n",
    "teste.loc[teste['HeatingQC'] == 'Gd', 'HeatingQC'] = 2\n",
    "teste.loc[teste['HeatingQC'] == 'TA', 'HeatingQC'] = 3\n",
    "teste.loc[teste['HeatingQC'] == 'Fa', 'HeatingQC'] = 4\n",
    "teste.loc[teste['HeatingQC'] == 'Po', 'HeatingQC'] = 5"
   ]
  },
  {
   "cell_type": "code",
   "execution_count": 54,
   "metadata": {},
   "outputs": [],
   "source": [
    "#transforma coluna Qualidade e Condição do Aquecimento em inteiro\n",
    "treino['HeatingQC'] = treino['HeatingQC'].astype(np.int64, copy=False)\n",
    "\n",
    "teste['HeatingQC'] = teste['HeatingQC'].astype(np.int64, copy=False)"
   ]
  },
  {
   "cell_type": "code",
   "execution_count": 55,
   "metadata": {},
   "outputs": [],
   "source": [
    "# mudar os dados da coluna Central de Ar Condicionado para números\n",
    "treino.loc[treino['CentralAir'] == 'N', 'CentralAir'] = 0\n",
    "treino.loc[treino['CentralAir'] == 'Y', 'CentralAir'] = 1\n",
    "\n",
    "teste.loc[teste['CentralAir'] == 'N', 'CentralAir'] = 0\n",
    "teste.loc[teste['CentralAir'] == 'Y', 'CentralAir'] = 1"
   ]
  },
  {
   "cell_type": "code",
   "execution_count": 56,
   "metadata": {},
   "outputs": [],
   "source": [
    "#transforma coluna Central de Ar Condicionado em inteiro\n",
    "treino['CentralAir'] = treino['CentralAir'].astype(np.int64, copy=False)\n",
    "\n",
    "teste['CentralAir'] = teste['CentralAir'].astype(np.int64, copy=False)"
   ]
  },
  {
   "cell_type": "code",
   "execution_count": 57,
   "metadata": {},
   "outputs": [],
   "source": [
    "# mudar os dados da coluna Qualidade da Cozinha para números\n",
    "treino.loc[treino['KitchenQual'] == 'Ex', 'KitchenQual'] = 1\n",
    "treino.loc[treino['KitchenQual'] == 'Gd', 'KitchenQual'] = 2\n",
    "treino.loc[treino['KitchenQual'] == 'TA', 'KitchenQual'] = 3\n",
    "treino.loc[treino['KitchenQual'] == 'Fa', 'KitchenQual'] = 4\n",
    "treino.loc[treino['KitchenQual'] == 'Po', 'KitchenQual'] = 5\n",
    "\n",
    "teste.loc[teste['KitchenQual'] == 'Ex', 'KitchenQual'] = 1\n",
    "teste.loc[teste['KitchenQual'] == 'Gd', 'KitchenQual'] = 2\n",
    "teste.loc[teste['KitchenQual'] == 'TA', 'KitchenQual'] = 3\n",
    "teste.loc[teste['KitchenQual'] == 'Fa', 'KitchenQual'] = 4\n",
    "teste.loc[teste['KitchenQual'] == 'Po', 'KitchenQual'] = 5"
   ]
  },
  {
   "cell_type": "code",
   "execution_count": 58,
   "metadata": {},
   "outputs": [],
   "source": [
    "#transforma coluna Qualidade da Cozinha em inteiro\n",
    "treino['KitchenQual'] = treino['KitchenQual'].astype(np.int64, copy=False)\n",
    "\n",
    "teste['KitchenQual'] = teste['KitchenQual'].astype(np.int64, copy=False)"
   ]
  },
  {
   "cell_type": "code",
   "execution_count": 59,
   "metadata": {},
   "outputs": [],
   "source": [
    "# mudar os dados da coluna Qualidade da Lareira para números\n",
    "treino.loc[treino['FireplaceQu'] == 'Ex', 'FireplaceQu'] = 1\n",
    "treino.loc[treino['FireplaceQu'] == 'Gd', 'FireplaceQu'] = 2\n",
    "treino.loc[treino['FireplaceQu'] == 'TA', 'FireplaceQu'] = 3\n",
    "treino.loc[treino['FireplaceQu'] == 'Fa', 'FireplaceQu'] = 4\n",
    "treino.loc[treino['FireplaceQu'] == 'Po', 'FireplaceQu'] = 5\n",
    "treino.loc[treino['FireplaceQu'] == 'NA', 'FireplaceQu'] = 0\n",
    "\n",
    "teste.loc[teste['FireplaceQu'] == 'Ex', 'FireplaceQu'] = 1\n",
    "teste.loc[teste['FireplaceQu'] == 'Gd', 'FireplaceQu'] = 2\n",
    "teste.loc[teste['FireplaceQu'] == 'TA', 'FireplaceQu'] = 3\n",
    "teste.loc[teste['FireplaceQu'] == 'Fa', 'FireplaceQu'] = 4\n",
    "teste.loc[teste['FireplaceQu'] == 'Po', 'FireplaceQu'] = 5\n",
    "teste.loc[teste['FireplaceQu'] == 'NA', 'FireplaceQu'] = 0"
   ]
  },
  {
   "cell_type": "code",
   "execution_count": 60,
   "metadata": {},
   "outputs": [],
   "source": [
    "#transforma coluna Qualidade da Lareira em inteiro\n",
    "treino['FireplaceQu'] = treino['FireplaceQu'].astype(np.int64, copy=False)\n",
    "\n",
    "teste['FireplaceQu'] = teste['FireplaceQu'].astype(np.int64, copy=False)"
   ]
  },
  {
   "cell_type": "code",
   "execution_count": 61,
   "metadata": {},
   "outputs": [],
   "source": [
    "# mudar os dados da coluna Qualidade da Garagem para números\n",
    "treino.loc[treino['GarageQual'] == 'Ex', 'GarageQual'] = 1\n",
    "treino.loc[treino['GarageQual'] == 'Gd', 'GarageQual'] = 2\n",
    "treino.loc[treino['GarageQual'] == 'TA', 'GarageQual'] = 3\n",
    "treino.loc[treino['GarageQual'] == 'Fa', 'GarageQual'] = 4\n",
    "treino.loc[treino['GarageQual'] == 'Po', 'GarageQual'] = 5\n",
    "treino.loc[treino['GarageQual'] == 'NA', 'GarageQual'] = 0\n",
    "\n",
    "teste.loc[teste['GarageQual'] == 'Ex', 'GarageQual'] = 1\n",
    "teste.loc[teste['GarageQual'] == 'Gd', 'GarageQual'] = 2\n",
    "teste.loc[teste['GarageQual'] == 'TA', 'GarageQual'] = 3\n",
    "teste.loc[teste['GarageQual'] == 'Fa', 'GarageQual'] = 4\n",
    "teste.loc[teste['GarageQual'] == 'Po', 'GarageQual'] = 5\n",
    "teste.loc[teste['GarageQual'] == 'NA', 'GarageQual'] = 0"
   ]
  },
  {
   "cell_type": "code",
   "execution_count": 62,
   "metadata": {},
   "outputs": [],
   "source": [
    "#transforma coluna Qualidade da Garagem em inteiro\n",
    "treino['GarageQual'] = treino['GarageQual'].astype(np.int64, copy=False)\n",
    "\n",
    "teste['GarageQual'] = teste['GarageQual'].astype(np.int64, copy=False)"
   ]
  },
  {
   "cell_type": "code",
   "execution_count": 63,
   "metadata": {},
   "outputs": [],
   "source": [
    "#transforma coluna em inteiro\n",
    "teste['TotalBsmtSF'] = teste['TotalBsmtSF'].astype(np.int64, copy=False)\n",
    "teste['BsmtFullBath'] = teste['BsmtFullBath'].astype(np.int64, copy=False)\n",
    "teste['BsmtHalfBath'] = teste['BsmtHalfBath'].astype(np.int64, copy=False)\n",
    "teste['GarageCars'] = teste['GarageCars'].astype(np.int64, copy=False)\n",
    "teste['GarageArea'] = teste['GarageArea'].astype(np.int64, copy=False)"
   ]
  },
  {
   "cell_type": "code",
   "execution_count": 64,
   "metadata": {},
   "outputs": [],
   "source": [
    "#transforma colunas em inteiro\n",
    "treino['LotFrontage'] = treino['LotFrontage'].astype(np.int64, copy=False)\n",
    "teste['LotFrontage'] = teste['LotFrontage'].astype(np.int64, copy=False)\n",
    "teste['BsmtUnfSF'] = teste['BsmtUnfSF'].astype(np.int64, copy=False)"
   ]
  },
  {
   "cell_type": "code",
   "execution_count": 65,
   "metadata": {},
   "outputs": [
    {
     "name": "stdout",
     "output_type": "stream",
     "text": [
      "<class 'pandas.core.frame.DataFrame'>\n",
      "Int64Index: 1459 entries, 0 to 1458\n",
      "Data columns (total 36 columns):\n",
      " #   Column        Non-Null Count  Dtype\n",
      "---  ------        --------------  -----\n",
      " 0   MSZoning      1459 non-null   int64\n",
      " 1   LotFrontage   1459 non-null   int64\n",
      " 2   LotArea       1459 non-null   int64\n",
      " 3   Street        1459 non-null   int64\n",
      " 4   LandContour   1459 non-null   int64\n",
      " 5   LotConfig     1459 non-null   int64\n",
      " 6   LandSlope     1459 non-null   int64\n",
      " 7   OverallQual   1459 non-null   int64\n",
      " 8   OverallCond   1459 non-null   int64\n",
      " 9   ExterQual     1459 non-null   int64\n",
      " 10  ExterCond     1459 non-null   int64\n",
      " 11  BsmtQual      1459 non-null   int64\n",
      " 12  BsmtCond      1459 non-null   int64\n",
      " 13  BsmtUnfSF     1459 non-null   int64\n",
      " 14  TotalBsmtSF   1459 non-null   int64\n",
      " 15  3SsnPorch     1459 non-null   int64\n",
      " 16  Heating       1459 non-null   int64\n",
      " 17  HeatingQC     1459 non-null   int64\n",
      " 18  CentralAir    1459 non-null   int64\n",
      " 19  1stFlrSF      1459 non-null   int64\n",
      " 20  2ndFlrSF      1459 non-null   int64\n",
      " 21  GrLivArea     1459 non-null   int64\n",
      " 22  BsmtFullBath  1459 non-null   int64\n",
      " 23  BsmtHalfBath  1459 non-null   int64\n",
      " 24  FullBath      1459 non-null   int64\n",
      " 25  HalfBath      1459 non-null   int64\n",
      " 26  KitchenAbvGr  1459 non-null   int64\n",
      " 27  KitchenQual   1459 non-null   int64\n",
      " 28  TotRmsAbvGrd  1459 non-null   int64\n",
      " 29  Fireplaces    1459 non-null   int64\n",
      " 30  FireplaceQu   1459 non-null   int64\n",
      " 31  GarageCars    1459 non-null   int64\n",
      " 32  GarageArea    1459 non-null   int64\n",
      " 33  GarageQual    1459 non-null   int64\n",
      " 34  WoodDeckSF    1459 non-null   int64\n",
      " 35  PoolArea      1459 non-null   int64\n",
      "dtypes: int64(36)\n",
      "memory usage: 421.7 KB\n"
     ]
    },
    {
     "data": {
      "text/plain": [
       "None"
      ]
     },
     "metadata": {},
     "output_type": "display_data"
    }
   ],
   "source": [
    "display(teste.info())"
   ]
  },
  {
   "cell_type": "code",
   "execution_count": 66,
   "metadata": {},
   "outputs": [
    {
     "name": "stdout",
     "output_type": "stream",
     "text": [
      "<class 'pandas.core.frame.DataFrame'>\n",
      "Int64Index: 1446 entries, 0 to 1459\n",
      "Data columns (total 37 columns):\n",
      " #   Column        Non-Null Count  Dtype\n",
      "---  ------        --------------  -----\n",
      " 0   SalePrice     1446 non-null   int64\n",
      " 1   MSZoning      1446 non-null   int64\n",
      " 2   LotFrontage   1446 non-null   int64\n",
      " 3   LotArea       1446 non-null   int64\n",
      " 4   Street        1446 non-null   int64\n",
      " 5   LandContour   1446 non-null   int64\n",
      " 6   LotConfig     1446 non-null   int64\n",
      " 7   LandSlope     1446 non-null   int64\n",
      " 8   OverallQual   1446 non-null   int64\n",
      " 9   OverallCond   1446 non-null   int64\n",
      " 10  ExterQual     1446 non-null   int64\n",
      " 11  ExterCond     1446 non-null   int64\n",
      " 12  BsmtQual      1446 non-null   int64\n",
      " 13  BsmtCond      1446 non-null   int64\n",
      " 14  BsmtUnfSF     1446 non-null   int64\n",
      " 15  TotalBsmtSF   1446 non-null   int64\n",
      " 16  3SsnPorch     1446 non-null   int64\n",
      " 17  Heating       1446 non-null   int64\n",
      " 18  HeatingQC     1446 non-null   int64\n",
      " 19  CentralAir    1446 non-null   int64\n",
      " 20  1stFlrSF      1446 non-null   int64\n",
      " 21  2ndFlrSF      1446 non-null   int64\n",
      " 22  GrLivArea     1446 non-null   int64\n",
      " 23  BsmtFullBath  1446 non-null   int64\n",
      " 24  BsmtHalfBath  1446 non-null   int64\n",
      " 25  FullBath      1446 non-null   int64\n",
      " 26  HalfBath      1446 non-null   int64\n",
      " 27  KitchenAbvGr  1446 non-null   int64\n",
      " 28  KitchenQual   1446 non-null   int64\n",
      " 29  TotRmsAbvGrd  1446 non-null   int64\n",
      " 30  Fireplaces    1446 non-null   int64\n",
      " 31  FireplaceQu   1446 non-null   int64\n",
      " 32  GarageCars    1446 non-null   int64\n",
      " 33  GarageArea    1446 non-null   int64\n",
      " 34  GarageQual    1446 non-null   int64\n",
      " 35  WoodDeckSF    1446 non-null   int64\n",
      " 36  PoolArea      1446 non-null   int64\n",
      "dtypes: int64(37)\n",
      "memory usage: 429.3 KB\n"
     ]
    },
    {
     "data": {
      "text/plain": [
       "None"
      ]
     },
     "metadata": {},
     "output_type": "display_data"
    }
   ],
   "source": [
    "display(treino.info())"
   ]
  },
  {
   "cell_type": "markdown",
   "metadata": {},
   "source": [
    "# Exemplo de entrega"
   ]
  },
  {
   "cell_type": "code",
   "execution_count": 67,
   "metadata": {},
   "outputs": [],
   "source": [
    "# carregando os dados do exemplo\n",
    "exemplo = pd.read_csv(r'C:\\Users\\janaina\\Documents\\PythonFundamentos\\home-data-for-ml-course\\sample_submission.csv')"
   ]
  },
  {
   "cell_type": "code",
   "execution_count": 68,
   "metadata": {},
   "outputs": [
    {
     "data": {
      "text/html": [
       "<div>\n",
       "<style scoped>\n",
       "    .dataframe tbody tr th:only-of-type {\n",
       "        vertical-align: middle;\n",
       "    }\n",
       "\n",
       "    .dataframe tbody tr th {\n",
       "        vertical-align: top;\n",
       "    }\n",
       "\n",
       "    .dataframe thead th {\n",
       "        text-align: right;\n",
       "    }\n",
       "</style>\n",
       "<table border=\"1\" class=\"dataframe\">\n",
       "  <thead>\n",
       "    <tr style=\"text-align: right;\">\n",
       "      <th></th>\n",
       "      <th>Id</th>\n",
       "      <th>SalePrice</th>\n",
       "    </tr>\n",
       "  </thead>\n",
       "  <tbody>\n",
       "    <tr>\n",
       "      <th>0</th>\n",
       "      <td>1461</td>\n",
       "      <td>169277.052498</td>\n",
       "    </tr>\n",
       "    <tr>\n",
       "      <th>1</th>\n",
       "      <td>1462</td>\n",
       "      <td>187758.393989</td>\n",
       "    </tr>\n",
       "    <tr>\n",
       "      <th>2</th>\n",
       "      <td>1463</td>\n",
       "      <td>183583.683570</td>\n",
       "    </tr>\n",
       "    <tr>\n",
       "      <th>3</th>\n",
       "      <td>1464</td>\n",
       "      <td>179317.477511</td>\n",
       "    </tr>\n",
       "    <tr>\n",
       "      <th>4</th>\n",
       "      <td>1465</td>\n",
       "      <td>150730.079977</td>\n",
       "    </tr>\n",
       "    <tr>\n",
       "      <th>...</th>\n",
       "      <td>...</td>\n",
       "      <td>...</td>\n",
       "    </tr>\n",
       "    <tr>\n",
       "      <th>1454</th>\n",
       "      <td>2915</td>\n",
       "      <td>167081.220949</td>\n",
       "    </tr>\n",
       "    <tr>\n",
       "      <th>1455</th>\n",
       "      <td>2916</td>\n",
       "      <td>164788.778231</td>\n",
       "    </tr>\n",
       "    <tr>\n",
       "      <th>1456</th>\n",
       "      <td>2917</td>\n",
       "      <td>219222.423400</td>\n",
       "    </tr>\n",
       "    <tr>\n",
       "      <th>1457</th>\n",
       "      <td>2918</td>\n",
       "      <td>184924.279659</td>\n",
       "    </tr>\n",
       "    <tr>\n",
       "      <th>1458</th>\n",
       "      <td>2919</td>\n",
       "      <td>187741.866657</td>\n",
       "    </tr>\n",
       "  </tbody>\n",
       "</table>\n",
       "<p>1459 rows × 2 columns</p>\n",
       "</div>"
      ],
      "text/plain": [
       "        Id      SalePrice\n",
       "0     1461  169277.052498\n",
       "1     1462  187758.393989\n",
       "2     1463  183583.683570\n",
       "3     1464  179317.477511\n",
       "4     1465  150730.079977\n",
       "...    ...            ...\n",
       "1454  2915  167081.220949\n",
       "1455  2916  164788.778231\n",
       "1456  2917  219222.423400\n",
       "1457  2918  184924.279659\n",
       "1458  2919  187741.866657\n",
       "\n",
       "[1459 rows x 2 columns]"
      ]
     },
     "execution_count": 68,
     "metadata": {},
     "output_type": "execute_result"
    }
   ],
   "source": [
    "exemplo"
   ]
  },
  {
   "cell_type": "markdown",
   "metadata": {},
   "source": [
    "# Treinando o Modelo com RandomForestRegressor"
   ]
  },
  {
   "cell_type": "code",
   "execution_count": 69,
   "metadata": {},
   "outputs": [],
   "source": [
    "# criando o x_treino, y_treino\n",
    "x_treino = treino[['MSZoning','LotFrontage','LotArea','Street','LandContour','LotConfig','LandSlope','OverallQual','OverallCond','ExterQual','ExterCond', 'BsmtQual','BsmtCond','BsmtUnfSF','TotalBsmtSF','3SsnPorch','Heating','HeatingQC','CentralAir','1stFlrSF','2ndFlrSF','GrLivArea','BsmtFullBath','BsmtHalfBath','FullBath','HalfBath','KitchenAbvGr','KitchenQual','TotRmsAbvGrd','Fireplaces','FireplaceQu','GarageCars','GarageArea','GarageQual','WoodDeckSF','PoolArea']]\n",
    "y_treino = treino[['SalePrice']]\n",
    "\n",
    "# criando o x_teste\n",
    "x_teste = teste[['MSZoning','LotFrontage','LotArea','Street','LandContour','LotConfig','LandSlope','OverallQual','OverallCond','ExterQual','ExterCond', 'BsmtQual','BsmtCond','BsmtUnfSF','TotalBsmtSF','3SsnPorch','Heating','HeatingQC','CentralAir','1stFlrSF','2ndFlrSF','GrLivArea','BsmtFullBath','BsmtHalfBath','FullBath','HalfBath','KitchenAbvGr','KitchenQual','TotRmsAbvGrd','Fireplaces','FireplaceQu','GarageCars','GarageArea','GarageQual','WoodDeckSF','PoolArea']]"
   ]
  },
  {
   "cell_type": "code",
   "execution_count": null,
   "metadata": {},
   "outputs": [],
   "source": [
    "# aplicando o modelo RandomForestRegressor\n",
    "\n",
    "from sklearn.ensemble import RandomForestRegressor\n",
    "regr = RandomForestRegressor()\n",
    "regr.fit(x_treino, y_treino)"
   ]
  },
  {
   "cell_type": "code",
   "execution_count": null,
   "metadata": {},
   "outputs": [],
   "source": [
    "# fazendo a previsão de do preço das casas na tabela teste\n",
    "y_pred = regr.predict(x_teste)\n",
    "acc_log = round(regr.score(x_treino, y_treino) * 100, 2)\n",
    "acc_log"
   ]
  },
  {
   "cell_type": "code",
   "execution_count": null,
   "metadata": {},
   "outputs": [],
   "source": [
    "# criar um dataFrame com o array de resultado\n",
    "House1 = pd.DataFrame({'Id': exemplo.Id,'SalePrice':y_pred})"
   ]
  },
  {
   "cell_type": "code",
   "execution_count": null,
   "metadata": {},
   "outputs": [],
   "source": [
    "House1"
   ]
  },
  {
   "cell_type": "markdown",
   "metadata": {},
   "source": [
    " Salvando o Resultado"
   ]
  },
  {
   "cell_type": "code",
   "execution_count": null,
   "metadata": {},
   "outputs": [],
   "source": [
    "# salvando o resultado em arquivo csv\n",
    "House1.to_csv('House1.csv', index=False)"
   ]
  },
  {
   "cell_type": "markdown",
   "metadata": {},
   "source": [
    "# Treinando o Modelo com DecisionTreeClassifier"
   ]
  },
  {
   "cell_type": "code",
   "execution_count": null,
   "metadata": {},
   "outputs": [],
   "source": [
    "# Decision Tree\n",
    "from sklearn.tree import DecisionTreeClassifier\n",
    "decision_tree = DecisionTreeClassifier()\n",
    "decision_tree.fit(x_treino, y_treino)\n",
    "y_pred = decision_tree.predict(x_teste)\n",
    "acc_decision_tree = round(decision_tree.score(x_treino, y_treino) * 100, 2)\n",
    "acc_decision_tree"
   ]
  },
  {
   "cell_type": "code",
   "execution_count": null,
   "metadata": {},
   "outputs": [],
   "source": [
    "y_pred"
   ]
  },
  {
   "cell_type": "code",
   "execution_count": null,
   "metadata": {},
   "outputs": [],
   "source": [
    "# criar um dataFrame com o array de resultado\n",
    "House2 = pd.DataFrame({'Id': exemplo.Id,'SalePrice':y_pred})"
   ]
  },
  {
   "cell_type": "markdown",
   "metadata": {},
   "source": [
    "Salvando o Resultado"
   ]
  },
  {
   "cell_type": "code",
   "execution_count": null,
   "metadata": {},
   "outputs": [],
   "source": [
    "# salvando o resultado em arquivo csv\n",
    "House2.to_csv('House2.csv', index=False)"
   ]
  },
  {
   "cell_type": "markdown",
   "metadata": {},
   "source": [
    "# Treinando o Modelo com DecisionTreeRegressor"
   ]
  },
  {
   "cell_type": "code",
   "execution_count": null,
   "metadata": {},
   "outputs": [],
   "source": [
    "# Decision Tree\n",
    "from sklearn.tree import DecisionTreeRegressor\n",
    "decision_tree = DecisionTreeRegressor()\n",
    "decision_tree.fit(x_treino, y_treino)\n",
    "y_pred = decision_tree.predict(x_teste)\n",
    "acc_decision_tree = round(decision_tree.score(x_treino, y_treino) * 100, 2)\n",
    "acc_decision_tree"
   ]
  },
  {
   "cell_type": "code",
   "execution_count": null,
   "metadata": {},
   "outputs": [],
   "source": [
    "y_pred"
   ]
  },
  {
   "cell_type": "code",
   "execution_count": null,
   "metadata": {},
   "outputs": [],
   "source": [
    "# criar um dataFrame com o array de resultado\n",
    "House3 = pd.DataFrame({'Id': exemplo.Id,'SalePrice':y_pred})"
   ]
  },
  {
   "cell_type": "markdown",
   "metadata": {},
   "source": [
    "Salvando o Resultado"
   ]
  },
  {
   "cell_type": "code",
   "execution_count": null,
   "metadata": {},
   "outputs": [],
   "source": [
    "# salvando o resultado em arquivo csv\n",
    "House3.to_csv('House3.csv', index=False)"
   ]
  },
  {
   "cell_type": "markdown",
   "metadata": {},
   "source": [
    "# Treinando o Modelo com GradientBoostingRegressor"
   ]
  },
  {
   "cell_type": "code",
   "execution_count": 70,
   "metadata": {},
   "outputs": [
    {
     "name": "stderr",
     "output_type": "stream",
     "text": [
      "C:\\Users\\janaina\\anaconda3\\lib\\site-packages\\sklearn\\utils\\validation.py:72: DataConversionWarning: A column-vector y was passed when a 1d array was expected. Please change the shape of y to (n_samples, ), for example using ravel().\n",
      "  return f(**kwargs)\n"
     ]
    }
   ],
   "source": [
    "from sklearn.datasets import make_regression\n",
    "from sklearn.ensemble import GradientBoostingRegressor\n",
    "from sklearn.model_selection import train_test_split\n",
    "#x_treino, y_treino = make_regression(random_state=0)\n",
    "#X_train, X_test, y_train, y_test = train_test_split(X, y, random_state=0)\n",
    "reg = GradientBoostingRegressor(random_state=2)\n",
    "reg.fit(x_treino, y_treino)\n",
    "GradientBoostingRegressor(random_state=2)\n",
    "y_pred = reg.predict(x_teste[0:1459])\n",
    "#array([-61])\n",
    "#reg.score(x_teste, y_pred)\n",
    "#0.4..."
   ]
  },
  {
   "cell_type": "code",
   "execution_count": 71,
   "metadata": {},
   "outputs": [
    {
     "data": {
      "text/plain": [
       "array([124922.85298962, 166920.78022535, 171041.73708224, ...,\n",
       "       168448.77779305, 115141.46820588, 220577.6647039 ])"
      ]
     },
     "execution_count": 71,
     "metadata": {},
     "output_type": "execute_result"
    }
   ],
   "source": [
    "y_pred"
   ]
  },
  {
   "cell_type": "code",
   "execution_count": null,
   "metadata": {},
   "outputs": [],
   "source": [
    "# criar um dataFrame com o array de resultado\n",
    "House4 = pd.DataFrame({'Id': exemplo.Id,'SalePrice':y_pred})"
   ]
  },
  {
   "cell_type": "markdown",
   "metadata": {},
   "source": [
    "Salvando o Resultado"
   ]
  },
  {
   "cell_type": "code",
   "execution_count": null,
   "metadata": {},
   "outputs": [],
   "source": [
    "# salvando o resultado em arquivo csv\n",
    "House4.to_csv('House4.csv', index=False)"
   ]
  },
  {
   "cell_type": "code",
   "execution_count": null,
   "metadata": {},
   "outputs": [],
   "source": [
    "from sklearn.metrics import mean_squared_error\n",
    "mse = mean_squared_error(y_pred, reg.predict(x_teste))\n",
    "print(\"The mean squared error (MSE) on test set: {:.4f}\".format(mse))"
   ]
  },
  {
   "cell_type": "code",
   "execution_count": null,
   "metadata": {},
   "outputs": [],
   "source": []
  },
  {
   "cell_type": "markdown",
   "metadata": {},
   "source": [
    "Salvando Resultado após retirar Outliers e incluir novas colunas"
   ]
  },
  {
   "cell_type": "code",
   "execution_count": null,
   "metadata": {},
   "outputs": [],
   "source": [
    "# criar um dataFrame com o array de resultado apos retirar outliers\n",
    "House5 = pd.DataFrame({'Id': exemplo.Id,'SalePrice':y_pred})"
   ]
  },
  {
   "cell_type": "code",
   "execution_count": null,
   "metadata": {},
   "outputs": [],
   "source": [
    "# salvando o resultado em arquivo csv\n",
    "House5.to_csv('House5.csv', index=False)"
   ]
  },
  {
   "cell_type": "code",
   "execution_count": null,
   "metadata": {},
   "outputs": [],
   "source": []
  },
  {
   "cell_type": "markdown",
   "metadata": {},
   "source": [
    "Salvando Resultado com Random State =2"
   ]
  },
  {
   "cell_type": "code",
   "execution_count": 72,
   "metadata": {},
   "outputs": [],
   "source": [
    "# criar um dataFrame com o array de resultado apos retirar outliers\n",
    "House6 = pd.DataFrame({'Id': exemplo.Id,'SalePrice':y_pred})"
   ]
  },
  {
   "cell_type": "code",
   "execution_count": 73,
   "metadata": {},
   "outputs": [],
   "source": [
    "# salvando o resultado em arquivo csv\n",
    "House6.to_csv('House6.csv', index=False)"
   ]
  },
  {
   "cell_type": "code",
   "execution_count": null,
   "metadata": {},
   "outputs": [],
   "source": []
  },
  {
   "cell_type": "code",
   "execution_count": null,
   "metadata": {},
   "outputs": [],
   "source": []
  },
  {
   "cell_type": "code",
   "execution_count": null,
   "metadata": {},
   "outputs": [],
   "source": [
    "import xgboost as xgb"
   ]
  },
  {
   "cell_type": "code",
   "execution_count": null,
   "metadata": {},
   "outputs": [],
   "source": [
    "# Aplicando o Modelo XGBoost\n",
    "import xgboost as xgb\n",
    "\n",
    "# read in data\n",
    "dtrain = xgb.x_treino\n",
    "dtest = xgb.x_teste\n",
    "\n",
    "# specify parameters via map\n",
    "param = {'max_depth':2, 'eta':1, 'objective':'binary:logistic' }\n",
    "num_round = 2\n",
    "bst = xgb.train(param, dtrain, num_round)\n",
    "# make prediction\n",
    "preds = bst.predict(dtest)"
   ]
  },
  {
   "cell_type": "code",
   "execution_count": null,
   "metadata": {},
   "outputs": [],
   "source": [
    "using XGBoost\n",
    "# read data\n",
    "train_X, train_Y = readlibsvm(\"demo/data/agaricus.txt.train\", (6513, 126))\n",
    "test_X, test_Y = readlibsvm(\"demo/data/agaricus.txt.test\", (1611, 126))\n",
    "# fit model\n",
    "num_round = 2\n",
    "bst = xgboost(train_X, num_round, label=train_Y, eta=1, max_depth=2)\n",
    "# predict\n",
    "pred = predict(bst, test_X)"
   ]
  },
  {
   "cell_type": "code",
   "execution_count": null,
   "metadata": {},
   "outputs": [],
   "source": []
  },
  {
   "cell_type": "code",
   "execution_count": null,
   "metadata": {},
   "outputs": [],
   "source": [
    "display(treino.info())"
   ]
  },
  {
   "cell_type": "code",
   "execution_count": null,
   "metadata": {},
   "outputs": [],
   "source": []
  },
  {
   "cell_type": "code",
   "execution_count": null,
   "metadata": {},
   "outputs": [],
   "source": []
  }
 ],
 "metadata": {
  "kernelspec": {
   "display_name": "Python 3",
   "language": "python",
   "name": "python3"
  },
  "language_info": {
   "codemirror_mode": {
    "name": "ipython",
    "version": 3
   },
   "file_extension": ".py",
   "mimetype": "text/x-python",
   "name": "python",
   "nbconvert_exporter": "python",
   "pygments_lexer": "ipython3",
   "version": "3.8.5"
  }
 },
 "nbformat": 4,
 "nbformat_minor": 4
}
