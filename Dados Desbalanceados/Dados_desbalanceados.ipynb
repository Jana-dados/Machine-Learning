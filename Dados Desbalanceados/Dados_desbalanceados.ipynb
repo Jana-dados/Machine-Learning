{
 "cells": [
  {
   "cell_type": "markdown",
   "id": "ed0000b6",
   "metadata": {},
   "source": [
    "# Cartao Credito - Dados Desbalanceados\n"
   ]
  },
  {
   "cell_type": "markdown",
   "id": "a4d0b859",
   "metadata": {},
   "source": [
    "Neste dataset temos um problema de classificação com target desbalanceada, \n",
    "então foi utilizado o undersampling e o oversampling para comparar qual obteve melhor resultado"
   ]
  },
  {
   "cell_type": "code",
   "execution_count": 1,
   "id": "e3bcae47",
   "metadata": {},
   "outputs": [],
   "source": [
    "import pandas as pd\n",
    "import numpy as np\n",
    "import random\n",
    "import seaborn as sns"
   ]
  },
  {
   "cell_type": "code",
   "execution_count": 2,
   "id": "b7771c37",
   "metadata": {},
   "outputs": [],
   "source": [
    "df = pd.read_csv('creditcard.csv')\n",
    "df = df[['V1','V2','V3','V4','V5','Amount','Class']]"
   ]
  },
  {
   "cell_type": "code",
   "execution_count": 3,
   "id": "365df33c",
   "metadata": {},
   "outputs": [
    {
     "data": {
      "text/html": [
       "<div>\n",
       "<style scoped>\n",
       "    .dataframe tbody tr th:only-of-type {\n",
       "        vertical-align: middle;\n",
       "    }\n",
       "\n",
       "    .dataframe tbody tr th {\n",
       "        vertical-align: top;\n",
       "    }\n",
       "\n",
       "    .dataframe thead th {\n",
       "        text-align: right;\n",
       "    }\n",
       "</style>\n",
       "<table border=\"1\" class=\"dataframe\">\n",
       "  <thead>\n",
       "    <tr style=\"text-align: right;\">\n",
       "      <th></th>\n",
       "      <th>V1</th>\n",
       "      <th>V2</th>\n",
       "      <th>V3</th>\n",
       "      <th>V4</th>\n",
       "      <th>V5</th>\n",
       "      <th>Amount</th>\n",
       "      <th>Class</th>\n",
       "    </tr>\n",
       "  </thead>\n",
       "  <tbody>\n",
       "    <tr>\n",
       "      <th>0</th>\n",
       "      <td>-1.359807</td>\n",
       "      <td>-0.072781</td>\n",
       "      <td>2.536347</td>\n",
       "      <td>1.378155</td>\n",
       "      <td>-0.338321</td>\n",
       "      <td>149.62</td>\n",
       "      <td>0</td>\n",
       "    </tr>\n",
       "    <tr>\n",
       "      <th>1</th>\n",
       "      <td>1.191857</td>\n",
       "      <td>0.266151</td>\n",
       "      <td>0.166480</td>\n",
       "      <td>0.448154</td>\n",
       "      <td>0.060018</td>\n",
       "      <td>2.69</td>\n",
       "      <td>0</td>\n",
       "    </tr>\n",
       "    <tr>\n",
       "      <th>2</th>\n",
       "      <td>-1.358354</td>\n",
       "      <td>-1.340163</td>\n",
       "      <td>1.773209</td>\n",
       "      <td>0.379780</td>\n",
       "      <td>-0.503198</td>\n",
       "      <td>378.66</td>\n",
       "      <td>0</td>\n",
       "    </tr>\n",
       "    <tr>\n",
       "      <th>3</th>\n",
       "      <td>-0.966272</td>\n",
       "      <td>-0.185226</td>\n",
       "      <td>1.792993</td>\n",
       "      <td>-0.863291</td>\n",
       "      <td>-0.010309</td>\n",
       "      <td>123.50</td>\n",
       "      <td>0</td>\n",
       "    </tr>\n",
       "    <tr>\n",
       "      <th>4</th>\n",
       "      <td>-1.158233</td>\n",
       "      <td>0.877737</td>\n",
       "      <td>1.548718</td>\n",
       "      <td>0.403034</td>\n",
       "      <td>-0.407193</td>\n",
       "      <td>69.99</td>\n",
       "      <td>0</td>\n",
       "    </tr>\n",
       "    <tr>\n",
       "      <th>...</th>\n",
       "      <td>...</td>\n",
       "      <td>...</td>\n",
       "      <td>...</td>\n",
       "      <td>...</td>\n",
       "      <td>...</td>\n",
       "      <td>...</td>\n",
       "      <td>...</td>\n",
       "    </tr>\n",
       "    <tr>\n",
       "      <th>284802</th>\n",
       "      <td>-11.881118</td>\n",
       "      <td>10.071785</td>\n",
       "      <td>-9.834783</td>\n",
       "      <td>-2.066656</td>\n",
       "      <td>-5.364473</td>\n",
       "      <td>0.77</td>\n",
       "      <td>0</td>\n",
       "    </tr>\n",
       "    <tr>\n",
       "      <th>284803</th>\n",
       "      <td>-0.732789</td>\n",
       "      <td>-0.055080</td>\n",
       "      <td>2.035030</td>\n",
       "      <td>-0.738589</td>\n",
       "      <td>0.868229</td>\n",
       "      <td>24.79</td>\n",
       "      <td>0</td>\n",
       "    </tr>\n",
       "    <tr>\n",
       "      <th>284804</th>\n",
       "      <td>1.919565</td>\n",
       "      <td>-0.301254</td>\n",
       "      <td>-3.249640</td>\n",
       "      <td>-0.557828</td>\n",
       "      <td>2.630515</td>\n",
       "      <td>67.88</td>\n",
       "      <td>0</td>\n",
       "    </tr>\n",
       "    <tr>\n",
       "      <th>284805</th>\n",
       "      <td>-0.240440</td>\n",
       "      <td>0.530483</td>\n",
       "      <td>0.702510</td>\n",
       "      <td>0.689799</td>\n",
       "      <td>-0.377961</td>\n",
       "      <td>10.00</td>\n",
       "      <td>0</td>\n",
       "    </tr>\n",
       "    <tr>\n",
       "      <th>284806</th>\n",
       "      <td>-0.533413</td>\n",
       "      <td>-0.189733</td>\n",
       "      <td>0.703337</td>\n",
       "      <td>-0.506271</td>\n",
       "      <td>-0.012546</td>\n",
       "      <td>217.00</td>\n",
       "      <td>0</td>\n",
       "    </tr>\n",
       "  </tbody>\n",
       "</table>\n",
       "<p>284807 rows × 7 columns</p>\n",
       "</div>"
      ],
      "text/plain": [
       "               V1         V2        V3        V4        V5  Amount  Class\n",
       "0       -1.359807  -0.072781  2.536347  1.378155 -0.338321  149.62      0\n",
       "1        1.191857   0.266151  0.166480  0.448154  0.060018    2.69      0\n",
       "2       -1.358354  -1.340163  1.773209  0.379780 -0.503198  378.66      0\n",
       "3       -0.966272  -0.185226  1.792993 -0.863291 -0.010309  123.50      0\n",
       "4       -1.158233   0.877737  1.548718  0.403034 -0.407193   69.99      0\n",
       "...           ...        ...       ...       ...       ...     ...    ...\n",
       "284802 -11.881118  10.071785 -9.834783 -2.066656 -5.364473    0.77      0\n",
       "284803  -0.732789  -0.055080  2.035030 -0.738589  0.868229   24.79      0\n",
       "284804   1.919565  -0.301254 -3.249640 -0.557828  2.630515   67.88      0\n",
       "284805  -0.240440   0.530483  0.702510  0.689799 -0.377961   10.00      0\n",
       "284806  -0.533413  -0.189733  0.703337 -0.506271 -0.012546  217.00      0\n",
       "\n",
       "[284807 rows x 7 columns]"
      ]
     },
     "execution_count": 3,
     "metadata": {},
     "output_type": "execute_result"
    }
   ],
   "source": [
    "df"
   ]
  },
  {
   "cell_type": "code",
   "execution_count": 4,
   "id": "15287351",
   "metadata": {},
   "outputs": [
    {
     "data": {
      "text/plain": [
       "(284807, 7)"
      ]
     },
     "execution_count": 4,
     "metadata": {},
     "output_type": "execute_result"
    }
   ],
   "source": [
    "df.shape"
   ]
  },
  {
   "cell_type": "code",
   "execution_count": 5,
   "id": "be3b6ce6",
   "metadata": {},
   "outputs": [
    {
     "data": {
      "text/plain": [
       "(284807, 7)"
      ]
     },
     "execution_count": 5,
     "metadata": {},
     "output_type": "execute_result"
    }
   ],
   "source": [
    "df.dropna(inplace=True)\n",
    "df.shape"
   ]
  },
  {
   "cell_type": "code",
   "execution_count": 6,
   "id": "ccd36503",
   "metadata": {},
   "outputs": [
    {
     "data": {
      "text/plain": [
       "0    284315\n",
       "1       492\n",
       "Name: Class, dtype: int64"
      ]
     },
     "execution_count": 6,
     "metadata": {},
     "output_type": "execute_result"
    }
   ],
   "source": [
    "df['Class'].value_counts()"
   ]
  },
  {
   "cell_type": "code",
   "execution_count": 7,
   "id": "2a2ff9ac",
   "metadata": {},
   "outputs": [
    {
     "name": "stderr",
     "output_type": "stream",
     "text": [
      "C:\\Users\\janaina\\Documents\\Anaconda\\lib\\site-packages\\seaborn\\_decorators.py:36: FutureWarning: Pass the following variable as a keyword arg: x. From version 0.12, the only valid positional argument will be `data`, and passing other arguments without an explicit keyword will result in an error or misinterpretation.\n",
      "  warnings.warn(\n"
     ]
    },
    {
     "data": {
      "image/png": "[encoded data removed]",
      "text/plain": [
       "<Figure size 432x288 with 1 Axes>"
      ]
     },
     "metadata": {
      "needs_background": "light"
     },
     "output_type": "display_data"
    }
   ],
   "source": [
    "sns.countplot(df['Class']);"
   ]
  },
  {
   "cell_type": "code",
   "execution_count": 8,
   "id": "0f581f43",
   "metadata": {},
   "outputs": [
    {
     "data": {
      "text/plain": [
       "7"
      ]
     },
     "execution_count": 8,
     "metadata": {},
     "output_type": "execute_result"
    }
   ],
   "source": [
    "len(df.columns)"
   ]
  },
  {
   "cell_type": "code",
   "execution_count": 9,
   "id": "90e418d6",
   "metadata": {},
   "outputs": [
    {
     "data": {
      "text/plain": [
       "array([[-1.35980713e+00, -7.27811733e-02,  2.53634674e+00,\n",
       "         1.37815522e+00, -3.38320770e-01,  1.49620000e+02],\n",
       "       [ 1.19185711e+00,  2.66150712e-01,  1.66480113e-01,\n",
       "         4.48154078e-01,  6.00176493e-02,  2.69000000e+00],\n",
       "       [-1.35835406e+00, -1.34016307e+00,  1.77320934e+00,\n",
       "         3.79779593e-01, -5.03198133e-01,  3.78660000e+02],\n",
       "       ...,\n",
       "       [ 1.91956501e+00, -3.01253846e-01, -3.24963981e+00,\n",
       "        -5.57828125e-01,  2.63051512e+00,  6.78800000e+01],\n",
       "       [-2.40440050e-01,  5.30482513e-01,  7.02510230e-01,\n",
       "         6.89799168e-01, -3.77961134e-01,  1.00000000e+01],\n",
       "       [-5.33412522e-01, -1.89733337e-01,  7.03337367e-01,\n",
       "        -5.06271240e-01, -1.25456788e-02,  2.17000000e+02]])"
      ]
     },
     "execution_count": 9,
     "metadata": {},
     "output_type": "execute_result"
    }
   ],
   "source": [
    "# formato necessario para maioria dos algoritmos\n",
    "X = df.iloc[:,0:6].values\n",
    "X"
   ]
  },
  {
   "cell_type": "code",
   "execution_count": 10,
   "id": "b364cced",
   "metadata": {},
   "outputs": [
    {
     "data": {
      "text/plain": [
       "array([0, 0, 0, ..., 0, 0, 0], dtype=int64)"
      ]
     },
     "execution_count": 10,
     "metadata": {},
     "output_type": "execute_result"
    }
   ],
   "source": [
    "y = df.iloc[:,6].values\n",
    "y"
   ]
  },
  {
   "cell_type": "code",
   "execution_count": 11,
   "id": "23c2d519",
   "metadata": {},
   "outputs": [
    {
     "data": {
      "text/plain": [
       "(array([0, 1], dtype=int64), array([284315,    492], dtype=int64))"
      ]
     },
     "execution_count": 11,
     "metadata": {},
     "output_type": "execute_result"
    }
   ],
   "source": [
    "np.unique(y, return_counts=True)"
   ]
  },
  {
   "cell_type": "markdown",
   "id": "db5fd325",
   "metadata": {},
   "source": [
    "## Base de Treinamento e Teste"
   ]
  },
  {
   "cell_type": "code",
   "execution_count": 12,
   "id": "788ad92b",
   "metadata": {},
   "outputs": [],
   "source": [
    "from sklearn.model_selection import train_test_split"
   ]
  },
  {
   "cell_type": "code",
   "execution_count": 13,
   "id": "008f9933",
   "metadata": {},
   "outputs": [
    {
     "data": {
      "text/plain": [
       "((227845, 6), (227845,))"
      ]
     },
     "execution_count": 13,
     "metadata": {},
     "output_type": "execute_result"
    }
   ],
   "source": [
    "X_treinamento, X_teste, y_treinamento, y_teste = train_test_split(X, y, test_size = 0.2, stratify = y)\n",
    "X_treinamento.shape, y_treinamento.shape"
   ]
  },
  {
   "cell_type": "code",
   "execution_count": 14,
   "id": "94c46000",
   "metadata": {},
   "outputs": [
    {
     "data": {
      "text/plain": [
       "((56962, 6), (56962,))"
      ]
     },
     "execution_count": 14,
     "metadata": {},
     "output_type": "execute_result"
    }
   ],
   "source": [
    "X_teste.shape, y_teste.shape"
   ]
  },
  {
   "cell_type": "markdown",
   "id": "b2de2195",
   "metadata": {},
   "source": [
    "## Classificação Random Forest"
   ]
  },
  {
   "cell_type": "code",
   "execution_count": 15,
   "id": "e64a0a5b",
   "metadata": {},
   "outputs": [],
   "source": [
    "from sklearn.ensemble import RandomForestClassifier\n",
    "from sklearn.metrics import confusion_matrix"
   ]
  },
  {
   "cell_type": "code",
   "execution_count": 16,
   "id": "2af8d5c9",
   "metadata": {},
   "outputs": [],
   "source": [
    "modelo = RandomForestClassifier()"
   ]
  },
  {
   "cell_type": "code",
   "execution_count": null,
   "id": "8c02d27f",
   "metadata": {},
   "outputs": [],
   "source": [
    "modelo.fit(X_treinamento, y_treinamento)"
   ]
  },
  {
   "cell_type": "code",
   "execution_count": null,
   "id": "fadca51d",
   "metadata": {},
   "outputs": [],
   "source": [
    "previsoes = modelo.predict(X_teste)\n",
    "from sklearn.metrics import accuracy_score\n",
    "accuracy_score(previsoes, y_teste)"
   ]
  },
  {
   "cell_type": "code",
   "execution_count": null,
   "id": "5f2644ab",
   "metadata": {},
   "outputs": [],
   "source": [
    "cm = confusion_matrix(previsoes, y_teste)\n",
    "cm"
   ]
  },
  {
   "cell_type": "code",
   "execution_count": null,
   "id": "14819068",
   "metadata": {},
   "outputs": [],
   "source": [
    "# porcentagem de dados que o modelo acertou\n",
    "56859 / (56859 + 38)"
   ]
  },
  {
   "cell_type": "code",
   "execution_count": null,
   "id": "4ec9c90c",
   "metadata": {},
   "outputs": [],
   "source": [
    "# Classe minoritária geralmente é a classe que precisamos de maior acertividade, porse tratar da classe de mais impacto.\n",
    "# porcentagem de dados que o modelo acertou\n",
    "60 / (60 +5)"
   ]
  },
  {
   "cell_type": "markdown",
   "id": "b58997c2",
   "metadata": {},
   "source": [
    "## Subamostragem (undersampling) - Tomek links\n",
    "\n",
    "https://imbalanced-learn.org/stable/user_guide.html"
   ]
  },
  {
   "cell_type": "code",
   "execution_count": null,
   "id": "05c67b07",
   "metadata": {},
   "outputs": [],
   "source": [
    "from imblearn.under_sampling import TomekLinks"
   ]
  },
  {
   "cell_type": "code",
   "execution_count": null,
   "id": "4789fab8",
   "metadata": {},
   "outputs": [],
   "source": [
    "tl = TomekLinks(sampling_strategy='majority')\n",
    "X_under, y_under = tl.fit_resample(X, y)"
   ]
  },
  {
   "cell_type": "code",
   "execution_count": null,
   "id": "44f2dcb0",
   "metadata": {},
   "outputs": [],
   "source": [
    "X_under.shape, y_under.shape"
   ]
  },
  {
   "cell_type": "code",
   "execution_count": null,
   "id": "c03b30b8",
   "metadata": {},
   "outputs": [],
   "source": [
    "np.unique(y, return_counts=True)"
   ]
  },
  {
   "cell_type": "code",
   "execution_count": null,
   "id": "06592e62",
   "metadata": {},
   "outputs": [],
   "source": [
    "np.unique(y_under, return_counts=True)"
   ]
  },
  {
   "cell_type": "code",
   "execution_count": null,
   "id": "f407ebdf",
   "metadata": {},
   "outputs": [],
   "source": [
    "X_treinamento_u, X_teste_u, y_treinamento_u, y_teste_u = train_test_split(X_under, y_under, test_size = 0.2, stratify = y_under)\n",
    "X_treinamento_u.shape, X_teste_u.shape"
   ]
  },
  {
   "cell_type": "code",
   "execution_count": null,
   "id": "bb2ac489",
   "metadata": {},
   "outputs": [],
   "source": [
    "# aplicando RandomForestClassifier nos dados undersampling\n",
    "modelo_u = RandomForestClassifier()\n",
    "modelo_u.fit(X_treinamento_u, y_treinamento_u)\n",
    "previsoes_u = modelo_u.predict(X_teste_u)\n",
    "accuracy_score(previsoes_u, y_teste_u)"
   ]
  },
  {
   "cell_type": "code",
   "execution_count": null,
   "id": "8c904ad3",
   "metadata": {},
   "outputs": [],
   "source": [
    "cm_u = confusion_matrix(previsoes_u, y_teste_u)\n",
    "cm_u"
   ]
  },
  {
   "cell_type": "code",
   "execution_count": null,
   "id": "0205374b",
   "metadata": {},
   "outputs": [],
   "source": [
    "# porcentagem de dados que o modelo acertou\n",
    "56846 / (56846 + 49)"
   ]
  },
  {
   "cell_type": "code",
   "execution_count": null,
   "id": "555a6e03",
   "metadata": {},
   "outputs": [],
   "source": [
    "# Classe minoritária geralmente é a classe que precisamos de maior acertividade, porse tratar da classe de mais impacto.\n",
    "# porcentagem de dados que o modelo acertou\n",
    "49 / (49 + 7)"
   ]
  },
  {
   "cell_type": "markdown",
   "id": "dd7df81b",
   "metadata": {},
   "source": [
    "## Sobreamostragem (oversampling) - SMOTE"
   ]
  },
  {
   "cell_type": "code",
   "execution_count": null,
   "id": "eb3a05ec",
   "metadata": {},
   "outputs": [],
   "source": [
    "from imblearn.over_sampling import SMOTE"
   ]
  },
  {
   "cell_type": "code",
   "execution_count": null,
   "id": "0336a348",
   "metadata": {},
   "outputs": [],
   "source": [
    "smote = SMOTE(sampling_strategy='minority')\n",
    "X_over, y_over = smote.fit_resample(X, y)"
   ]
  },
  {
   "cell_type": "code",
   "execution_count": null,
   "id": "324ac10e",
   "metadata": {},
   "outputs": [],
   "source": [
    "X_over.shape, y_over.shape"
   ]
  },
  {
   "cell_type": "code",
   "execution_count": null,
   "id": "ce2db1ad",
   "metadata": {},
   "outputs": [],
   "source": [
    "np.unique(y, return_counts=True)"
   ]
  },
  {
   "cell_type": "code",
   "execution_count": null,
   "id": "7a2430b5",
   "metadata": {},
   "outputs": [],
   "source": [
    "np.unique(y_over, return_counts=True)"
   ]
  },
  {
   "cell_type": "code",
   "execution_count": null,
   "id": "58ae9fe0",
   "metadata": {},
   "outputs": [],
   "source": [
    "X_treinamento_o, X_teste_o, y_treinamento_o, y_teste_o = train_test_split(X_over, y_over, \n",
    "                                                                          test_size = 0.2, stratify = y_over)\n",
    "X_treinamento_o.shape, X_teste_o.shape"
   ]
  },
  {
   "cell_type": "code",
   "execution_count": null,
   "id": "6405663a",
   "metadata": {},
   "outputs": [],
   "source": [
    "modelo_o = RandomForestClassifier()\n",
    "modelo_o.fit(X_treinamento_o, y_treinamento_o)\n",
    "previsoes_o = modelo_o.predict(X_teste_o)\n",
    "accuracy_score(previsoes_o, y_teste_o)"
   ]
  },
  {
   "cell_type": "code",
   "execution_count": null,
   "id": "23d8c7cf",
   "metadata": {},
   "outputs": [],
   "source": [
    "cm_o = confusion_matrix(previsoes_o, y_teste_o)\n",
    "cm_o"
   ]
  },
  {
   "cell_type": "code",
   "execution_count": null,
   "id": "b125a803",
   "metadata": {},
   "outputs": [],
   "source": [
    "# porcentagem de dados que o modelo acertou\n",
    "56766 / (56766 + 8)"
   ]
  },
  {
   "cell_type": "code",
   "execution_count": null,
   "id": "9a41ad67",
   "metadata": {},
   "outputs": [],
   "source": [
    "# Classe minoritária geralmente é a classe que precisamos de maior acertividade, porse tratar da classe de mais impacto.\n",
    "# porcentagem de dados que o modelo acertou\n",
    "56855 / (56855 + 97)"
   ]
  }
 ],
 "metadata": {
  "kernelspec": {
   "display_name": "Python 3",
   "language": "python",
   "name": "python3"
  },
  "language_info": {
   "codemirror_mode": {
    "name": "ipython",
    "version": 3
   },
   "file_extension": ".py",
   "mimetype": "text/x-python",
   "name": "python",
   "nbconvert_exporter": "python",
   "pygments_lexer": "ipython3",
   "version": "3.8.8"
  }
 },
 "nbformat": 4,
 "nbformat_minor": 5
}
